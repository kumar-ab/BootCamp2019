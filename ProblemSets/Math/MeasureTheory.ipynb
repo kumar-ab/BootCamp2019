{
 "cells": [
  {
   "cell_type": "markdown",
   "metadata": {},
   "source": [
    "# Introduction to Measure Theory"
   ]
  },
  {
   "cell_type": "markdown",
   "metadata": {},
   "source": [
    "### Exercise 1.3\n",
    "Let $X = {\\rm I\\!R}$. Define:\n",
    "\n",
    "1. $\\mathcal{G}_1 = \\{A : A \\subset \\mathbb{R}, A \\text{ open} \\}$\n",
    "<br>\n",
    "2. $\\mathcal{G}_2 = \\{A : A \\text{ is a finite union of intervals of the form }(a,b], (-\\infty,b] \\text{, and }(a,\\infty) \\}$\n",
    "<br>\n",
    "3. $\\mathcal{G}_3 = \\{A : A \\text{ is a countable union of }(a,b], (-\\infty,b] \\text{, and }(a,\\infty)\\}$\n",
    "<br>\n",
    "Which of these are algebras? Which are even $\\sigma$-algebras?"
   ]
  },
  {
   "cell_type": "markdown",
   "metadata": {},
   "source": [
    "### Solution:\n",
    "1. For $A \\in \\mathcal{G}_1 \\\\\n",
    "\\because A \\text{ is open on }\\mathbb{R}\\\\\n",
    "\\therefore {A}^c \\text{ will not be open on }\\mathbb{R}$\n",
    "<br>\n",
    "$\\implies {A}^c \\notin \\mathcal{G}_1$.\n",
    "<br> Hence $\\mathcal{G}_1$ is not an algebra (and thereby not $\\sigma$-algebra).\n",
    "\n",
    "\n",
    "2. By definition, for ${A}_n \\in \\mathcal{G}_2 \\text{, } \\bigcup_{n=1}^{N}A_{n} \\in \\mathcal{G}_2$\n",
    "<br>\n",
    "(as $\\bigcup_{n=1}^{N}A_{n}$ will be a finite union of the intervals of the form $(-\\infty, b], (a,b]$ and  $(a, \\infty)$).\n",
    "<br>\n",
    "Also, $\\forall \\ A \\in \\mathcal{G}_2 \\text{ , }{A}^c  \\in \\mathcal{G}_2$\n",
    "<br>\n",
    "$\\implies \\mathcal{G}_2$ is an algebra\n",
    "<br>\n",
    "All the same, $\\bigcup_{n=1}^{\\infty}A_{n} \\notin \\mathcal{G}_2$ as $\\mathcal{G}_2$ is only a finite union of such intervals\n",
    "<br>\n",
    "Hence, $\\mathcal{G}_2$ is an algebra but not a $\\sigma$-algebra.\n",
    "\n",
    "\n",
    "3. Looking at 2 above and the definition of $\\mathcal{G}_3$, it is clear that $\\mathcal{G}_3$ is an algebra\n",
    "<br>\n",
    "Also, $\\bigcup_{n=1}^{\\infty}A_{n} \\in \\mathcal{G}_3$ as $\\mathcal{G}_3$ is only a countable union of such intervals\n",
    "<br>\n",
    "Hence, $\\mathcal{G}_1$ is a $\\sigma$-algebra."
   ]
  },
  {
   "cell_type": "markdown",
   "metadata": {},
   "source": [
    "### Exercise 1.7 - Solution:\n",
    "Consider a $\\sigma$-algebra $\\mathcal{A}$\n",
    "<br> 1. By defnition, $\\phi \\in \\mathcal{A}$. Also, for the set , $\\{\\phi, X\\}$, ${\\phi}^c = X \\in \\mathcal{A}$\n",
    "<br> $\\implies \\{\\phi, X\\} \\subset \\mathcal{A}$.\n",
    "<br> 2. Now consider any $A \\in \\mathcal{A}$. Clealy $A \\subset X \\implies A \\in \\mathcal{P}(X)$.\n",
    "<br> $\\implies \\mathcal{A} \\subset \\mathcal{P}(X)$.\n",
    "\n",
    "Thus from 1 & 2 above, $\\{\\phi, X\\} \\subset A \\subset \\mathcal{P}(X)$"
   ]
  },
  {
   "cell_type": "markdown",
   "metadata": {},
   "source": [
    "### Exercise 1.10 - Solution:\n",
    "$\\because \\{S_\\alpha\\}$ is a family of $\\sigma$-algebras on X,\n",
    "<br> $\\therefore \\phi \\in S_\\alpha$ for all $\\alpha$\n",
    "<br> $\\implies \\phi \\in \\bigcap_{\\alpha}S_\\alpha$.\n",
    "<br>\n",
    "<br> Consider any $A \\in  \\bigcap_{\\alpha}S_\\alpha$. $\\implies A \\in S_\\alpha$ for each $\\alpha$\n",
    "<br> $\\because$ each $S_\\alpha$ is a $\\sigma$ - algebra\n",
    "<br> $\\therefore A^c \\in S_\\alpha$ for all $\\alpha$\n",
    "<br> $\\implies A^c \\in \\bigcap_{\\alpha}S_\\alpha$.\n",
    "<br>\n",
    "<br> Now consider $\\{A_n\\} \\in \\bigcap_{\\alpha}(S_\\alpha)$. $\\implies A_n \\in S_\\alpha$ for all $\\alpha$\n",
    "<br> $\\because$ each $S_\\alpha$ is a $\\sigma$-algebra\n",
    "<br> $\\therefore \\bigcup_{n=1}^{\\infty}A_n \\in S_\\alpha$ for all $\\alpha$. $\\implies \\bigcup_{n=1}^{\\infty}A_n \\in \\bigcap_{\\alpha}S_\\alpha$.\n",
    "\n",
    "Hence $\\bigcap_{\\alpha}S_\\alpha$ is also a $\\sigma$- algebra."
   ]
  },
  {
   "cell_type": "markdown",
   "metadata": {},
   "source": [
    "### Exercise 1.22 - Solution:\n",
    "Consider sets $A, B \\in \\mathcal{S}$, where $A \\subset B$.\n",
    "<br> Now consider a set $C = A^c \\cap B$.\n",
    "<br> As $\\mathcal{S}$ is a $\\sigma$-algebra, $C \\in \\mathcal{S}$. Also, $A \\cap C = \\phi$. \n",
    "<br> $\\because \\mu$ is a measure\n",
    "<br> $\\therefore \\mu(A \\cup C) = \\mu(A) + \\mu(C)$\n",
    "<br> $\\implies \\mu(B) = \\mu(A) + \\mu(C)$\n",
    "<br> As $\\mu$ is non-negative by definition, $\\mu(C) \\ge 0$.\n",
    "<br> Hence $\\mu(A) \\le \\mu(B) \\implies \\mu$ is monotone.\n",
    "\n",
    "Now Consider 2 sets $A_1, A_2$.\n",
    "<br> $(A_1 \\cup A_2)$ can be written as $({A_1}^c \\cap A_2) \\cup (A_1 \\cap A_2) \\cup ({A_2}^c \\cap A_1) \\quad$ (i.e. union of disjoint sets)\n",
    "<br> Using the property of monotone, $\\mu(A_1 \\cup A_2) = \\mu({A_1}^c \\cap A_2) + \\mu(A_1 \\cap A_2) + \\mu({A_2}^c \\cap A_1)$\n",
    "<br> $\\implies \\mu (A_1 \\cup A_2) \\le \\mu({A_1}^c \\cap A_2) + \\mu(A_1 \\cap A_2) + \\mu({A_2}^c \\cap A_1) + \\mu(A_1 \\cap A_2)$\n",
    "<br> $\\implies \\mu (A_1 \\cup A_2) \\le \\mu(A_1) + \\mu(A_2)$.\n",
    "\n",
    "Therefore, by induction, $\\mu(\\bigcup_{i=1}^{i=\\infty}A_i) \\le \\sum_{i=1}^{i=\\infty}\\mu(A_i)$."
   ]
  },
  {
   "cell_type": "markdown",
   "metadata": {},
   "source": [
    "### Exercise 1.23 -  Solution:\n",
    "$\\lambda(\\phi) = \\mu(\\phi \\cap B) = \\mu(\\phi) = 0$.\n",
    "<br> Consider a collection of disjoint sets $\\{A_i\\}_{i=1}^{i= \\infty}$, \n",
    "<br> $\\lambda(\\bigcup_{i=1}^{i = \\infty}A_i) = \\mu(B \\cap \\bigcup_{i=1}^{i = \\infty}A_i) = \\mu(\\bigcup_{i=1}^{i=\\infty}(B \\cap A_i))$\n",
    "<br> Now, all $A_i$'s are disjoint, $\\implies (B\\cap A_i)$'s are also disjoint.\n",
    "<br> As $\\mu$ is a measure, $\\mu(\\bigcup_{i=1}^{i=\\infty}(B \\cap A_i))  = \\sum_{i=1}^{i=\\infty}\\mu(B \\cap A_i) = \\sum_{i=1}^{i=\\infty} \\lambda(A_i)$.\n",
    "\n",
    "Thus $\\lambda(\\bigcup_{i=1}^{i = \\infty}A_i) = \\sum_{i=1}^{i=\\infty} \\lambda(A_i) \\implies \\lambda$ is a measure."
   ]
  },
  {
   "cell_type": "markdown",
   "metadata": {},
   "source": [
    "### Exercise 1.26 -  Solution:\n",
    "Let $B_i = A^c_i \\cap A_1\\quad$ (clearly $B_1 = \\phi$ and $\\lim_{n \\rightarrow \\infty}B_n = A_1$)\n",
    "<br>Thus $A_1 \\supset A_2 \\supset A_n \\supset ... $ is equivalent to $B_1 \\subset B_2 \\subset B_n \\subset ... $\n",
    "\n",
    "From theorem  1.25(i), $\\lim_{n \\rightarrow \\infty}\\mu(B_n) = \\mu(\\bigcup_{n=1}^{n=\\infty}(B_n))$\n",
    "<br>$\\implies \\lim_{n \\rightarrow \\infty}\\mu(A_1 \\cap A^c_n) = \\mu(\\bigcup_{n=1}^{n=\\infty}(A_1 \\cap A^c_n))$\n",
    "<br> From solution to Ex 1.22, $\\mu(A_1 \\cap A^c_n) = \\mu(A_1) - \\mu(A_n)$\n",
    "<br>$\\implies \\mu(A_1) - \\lim_{n \\rightarrow \\infty}\\mu(A_n) = \\mu(A_1) - \\mu(\\bigcap_{n=1}^{n=\\infty}A_n)$\n",
    "\n",
    "As, $\\mu(A_1) < \\infty$, $\\quad \\lim_{n \\rightarrow \\infty}\\mu(A_n) = \\mu(\\bigcap_{n=1}^{n=\\infty}A_n)$"
   ]
  },
  {
   "cell_type": "markdown",
   "metadata": {},
   "source": [
    "### Exercise 2.10 - Solution:\n",
    "Already proved in the notes."
   ]
  },
  {
   "cell_type": "markdown",
   "metadata": {},
   "source": [
    "### Exercise 2.14 - Solution:\n",
    "$\\mathcal A = \\{A: A$ is a countable union of intervals of the form $(a,b], (-\\infty, b]$ and $(a, \\infty)\\}. \\quad$ Let $A \\in \\sigma(\\mathcal A)$.\n",
    "<br> $(a,b]$ can be written as $\\bigcap_{n=1}^{n=\\infty}(a, b - 1/n)$, and $(- \\infty, b]$ can be written as $\\bigcap_{n=1}^{n=\\infty}(-\\infty, b- 1/n)$.\n",
    "<br> $\\implies A$ can be written as a countable union of intervals of the form $\\bigcap_{n=1}^{n=\\infty}(a, b-1/n), \\bigcap_{n=1}^{n=\\infty}(-\\infty, b-1/n), (a, \\infty)$.\n",
    "<br> By definition, all such $A$ belong to $\\sigma(\\mathcal O)$. $\\implies$ the countable union of these terms also belongs to $\\sigma(\\mathcal O)$.\n",
    "<br> Thus $\\sigma(\\mathcal A) \\subset \\sigma(\\mathcal O).\\quad$ -(I)\n",
    "<br> Let $A \\in \\sigma(\\mathcal O)$. So, $A$ will be of the form $(a,b)$. We can write $(a,b) = \\bigcup_{n=1}^{n=\\infty}(a, b-1/n]$.\n",
    "<br> On the same lines, an interval $(-\\infty, b)$ can be written as $\\bigcup_{n=1}^{n=\\infty}(-\\infty, b-1/n]$ and $(a, \\infty)$ can be written as $\\bigcup_{n=1}^{n=\\infty}[a-1/n, \\infty)$.\n",
    "<br> Each of these terms is a countable union of sets that $\\in \\mathcal A \\implies A \\in \\sigma(\\mathcal A)$. Thereby any countable union of these sets also $\\in \\sigma(\\mathcal A)$.\n",
    "<br> Thus $\\sigma(\\mathcal O) \\subset \\sigma(\\mathcal A). \\quad$ -(II)\n",
    "<br> Frome (I) and (II) We thus have $\\sigma(\\mathcal A) = \\sigma(\\mathcal O)$.\n",
    "\n",
    "$\\therefore$ By Caratheodory's Theorem, $\\mathcal B(\\mathbb R) \\subset \\mathcal M$."
   ]
  },
  {
   "cell_type": "markdown",
   "metadata": {},
   "source": [
    "### Exercise 3.1 - Solution:\n",
    "Consider $X \\subset \\mathbb R$ as a countable set. $x_1, x_2, x_3... x_n \\in X, \\quad \\forall n \\in \\mathbb N$.\n",
    "<br> Let $A_n = (x_n - \\frac{\\epsilon}{2^{n+2}}, x_n + \\frac{\\epsilon}{2^{n+2}})$, For $0<\\epsilon<1$\n",
    "<br> Let $\\bar\\mu$ be the Lebesgue Measure of $X$. Therefore $\\bar\\mu(\\bigcup_{n=1}^{\\infty}A_n) = \\sum_{n=1}^{\\infty}\\frac{\\epsilon}{2^{n+1}} = \\frac {\\epsilon}{2}$.\n",
    "<br> Since $\\epsilon$ is arbitrary, $\\bar\\mu(\\bigcup_{n=1}^{\\infty})A_n = 0 \\quad$. - (I)\n",
    "<br> Also, $x_n \\in X \\implies x_n \\in A_n$. Thus $X \\subset \\bigcup_{n=1}^{\\infty}A_n$.\n",
    "<br> $\\bar\\mu(X) \\le \\bar\\mu(\\bigcup_{n=1}^{\\infty}A_n)$ - (property of monotone)  $\\quad$ - (II)\n",
    "<br>\n",
    "<br> since, $\\mu$ is non-negative, from (I) & (II), $\\bar\\mu(X) = 0$"
   ]
  },
  {
   "cell_type": "markdown",
   "metadata": {},
   "source": [
    "### Exercise 3.7 - Solution:\n",
    "Given $\\{x \\in X : f(x) < a \\} \\in \\mathcal{M} \\quad$ - (I)\n",
    "\n",
    "Now, as $\\mathcal{M}$ is closed under complements $(f^{-1}(-\\infty, a))^c \\in \\mathcal{M} \\implies f^{-1}([a, \\infty)) \\in \\mathcal{M}$.\n",
    "<br> Thus, $\\{x \\in X : f(x) \\ge a \\} \\in \\mathcal{M} \\quad$ - (II)\n",
    "\n",
    "Given (I) $f^{-1}([a - \\frac{1}{n}, \\infty)) \\in \\mathcal{M}$, Now $\\cap_{n=1}^{\\infty} f^{-1}([a - \\frac{1}{n}, \\infty)) = f^{-1}((a, \\infty))$\n",
    "<br> As $\\mathcal{M}$ is closed under countable intersections, $f^{-1}(a, \\infty) \\in \\mathcal{M}$.\n",
    "<br> Thus, $\\{x \\in X : f(x) > a \\} \\in \\mathcal{M} \\quad$ - (III)\n",
    "\n",
    "Given (II), and because $\\mathcal{M}$ is closed under complements, $(f^{-1}(a, \\infty))^c \\in \\mathcal{M} \\implies f^{-1}((-\\infty, a]) \\in \\mathcal{M}$.\n",
    "<br> Thus, $\\{x \\in X : f(x) \\le a \\} \\in \\mathcal{M} \\quad$ - - (IV)\n",
    "\n",
    "Therefore, (I) can be replaced by the (II), (III), and (IV)"
   ]
  },
  {
   "cell_type": "markdown",
   "metadata": {},
   "source": [
    "### Exercise 3.10 - Solution:\n",
    "Suppose $f$ and $g$ are measurable functions on $(X,\\mathcal{M})$. Also from theorem 3.9, $sup_{n \\in \\mathbb N}f_n(x)$, $inf_{n \\in \\mathbb N}f_n(x)$ and $F(f(x), g(x))$ are also measurable. We have to prove that the following are also measurable:\n",
    "<br> $f + g$, $f \\cdot g$, $\\max(f,g)$, $\\min(f,g)$, $|f|$\n",
    "\n",
    "Already proved in the notes"
   ]
  },
  {
   "cell_type": "markdown",
   "metadata": {},
   "source": [
    "### Exercise 3.17 - Solution:\n",
    "Given $f$ be bounded, we have to prove that the convergence in (1) of Theorem 3.16 is uniform.\n",
    "<br> There exists an $M \\in \\mathbb{R}$ such that $|f(x)| \\leq M$ for all $x \\in X$.\n",
    "<br> $\\implies x \\in E^M_i, \\quad \\forall x \\in X$ for some value of $i$.\n",
    "<br> Now consider $\\epsilon > 0$.\n",
    "<br> We can always get an $N \\in \\mathbb{R}$ and $N \\geq M$ such that $\\frac{1}{2^N} < \\epsilon$.\n",
    "<br> $\\forall x \\in X$ and $n \\geq N$, $|| s_n(x) - f(x) || < \\epsilon$\n",
    "\n",
    "Hence, the convergence in (1) is uniform."
   ]
  },
  {
   "cell_type": "markdown",
   "metadata": {},
   "source": [
    "### Exercise 4.13 - Solution:\n",
    "From remark 4.10, $|f| = f^+ + f^-$.\n",
    "<br> Also, $0 \\leq f^+$ and $0 \\leq f^-$. Since $|f|| < M$ on $E$, $0 \\leq f^+ < M$ and $0 \\leq f^- < M$ on $E$.\n",
    "<br> Now, as per proposition 4.5, $\\mu(E) < \\infty \\implies \\int_E f^+ d\\mu < M \\mu(E) < \\infty$ and $\\int_E f^- d\\mu < M \\mu(E) < \\infty$\n",
    "<br> Hence, both $\\int_E f^+ d\\mu$ and $\\int_E f^- d\\mu$ are finite\n",
    "\n",
    "$\\implies f \\in \\mathscr{L}^1(\\mu, E)$."
   ]
  },
  {
   "cell_type": "markdown",
   "metadata": {},
   "source": [
    "### Exercise 4.14 - Solution:\n",
    "Consider a measurable set $E_1 \\subset E$ such that $f$ is not finite on $E_1 \\implies \\int_{E_1} f d\\mu = \\infty \\quad$ -(I)\n",
    "<br> Now, $\\int_{E_1} f d\\mu \\leq \\int_E f d\\mu < \\infty \\quad$ -(II) (As it is given that $f \\in \\mathscr{L}^1(\\mu,E) \\implies \\int_E f d\\mu < \\infty$)\n",
    "<br> Now (I) and (II) are contradictory, which negates the initial consideration.\n",
    "<br> Hence, $f$ is finite almost everywhere in E"
   ]
  },
  {
   "cell_type": "markdown",
   "metadata": {},
   "source": [
    "### Exercise 4.15 - Solution:\n",
    "Given $f,g \\in \\mathscr{L}^1(\\mu,E)$, $f \\le g$ on $E$.\n",
    "<br> From $f \\le g$, we get $f^+ \\leq g^+$ and $f^- \\geq g^- \\quad$. -(I)\n",
    "<br> Consider $B(f) = \\{ s : 0 \\leq s \\leq f, s \\text{ simple, measurable}  \\}$.\n",
    "<br> From proposition 4.7, $B(f^+) \\subset B(g^+)$ and $B(g^-) \\subset B(f^-) \\quad$. - (II)\n",
    "<br> From (I) & (II), $\\int_E f^+ d\\mu \\leq \\int_E g^+ d\\mu$ and $\\int_E f^- d\\mu \\geq \\int_E g^- d\\mu \\quad$. - (III)\n",
    "<br> By definition, $\\int_E fd\\mu = \\int_E f^+ d\\mu - \\int_E f^- d\\mu$, and $\\int_E g d\\mu = \\int_E g^+ d\\mu - \\int_E g^- d\\mu \\quad$. -(IV) \n",
    "\n",
    "From (III) & (IV), $\\int_E fd\\mu \\leq \\int_E g d\\mu$"
   ]
  },
  {
   "cell_type": "markdown",
   "metadata": {},
   "source": [
    "### Exercise 4.16 - Solution:\n",
    "Let $s(x) = \\sum_{i=1}^{N} c_i \\chi_{E_{i}}$, $E_i$ measurable and $E_i \\in \\mathcal{M}$.\n",
    "<br> Consider $A \\subset E \\in \\mathcal{M}$. From the property of monotone, $\\mu(A \\cap E_i) \\leq \\mu(E \\cap E_i)$ $\\forall i$. <br> $\\implies$ By Definition 4.1, $\\int_A  sd\\mu = \\sum_{i=1}^{N} c_i \\mu(A \\cap E_i)$, and $\\int_E s d\\mu = \\sum_{i=1}^{N} c_i \\mu(E \\cap E_i) \\quad$ -(I)\n",
    "<br> By Definition 4.2, $\\int_A f d\\mu = \\sup \\{ \\int_A s d\\mu : 0 \\leq s \\leq f, s \\text{ simple, measurable} \\}$, and\t$\\int_E f d\\mu = \\sup \\{ \\int_E s d\\mu : 0 \\leq s \\leq f, s \\text{ simple, measurable} \\} \\quad$ -(II)\n",
    "<br> As $s$ is chosen arbitrarily, (I) & (II) leads to $\\int_A f d\\mu \\leq \\int_E f d\\mu$\n",
    "<br> Now, $f \\in \\mathscr{L}^1(\\mu, E) \\implies \\int_E |f| d\\mu < \\infty \\ implies \\int_E f d\\mu <\\infty$. Similarly, $\\int_A f d\\mu < \\infty$\n",
    "<br> This leads to $\\int_A f^+ d\\mu < \\infty$ and $\\int_A f^{-} d\\mu < \\infty$\n",
    "\n",
    "$\\implies f \\in \\mathscr{L}^1 (\\mu, A)$."
   ]
  },
  {
   "cell_type": "markdown",
   "metadata": {},
   "source": [
    "### Exercise 4.21 - Solution:\n",
    "Given $A, B \\in \\mathcal{M}$, $B \\subset A$, $\\mu(A - B) = 0$, and $f \\in \\mathscr{L}^1$\n",
    "<br> As per proposition 4.6 $\\int_{A-B} f d\\mu = 0$ and as per theorem 4.19, $\\mu_1(A) =  \\int_A f^+ d\\mu$ and $\\mu_2(A) = \\int_A f^- d\\mu$ are measures on $\\mathcal{M}$.\n",
    "<br> Therefore, by the definition , $\\int_A f d\\mu =  \\int_A f^+ d\\mu -  \\int_A f^- d\\mu = \\mu_1(A) - \\mu_2(A)$\n",
    "<br> Now, $A$ can be written as $(A \\cap B^c) \\cup B \\implies \\mu_1(A) = \\mu_1(A - B) + \\mu_1(B)$, and $\\mu_2(A) = \\mu_2(A - B) + \\mu_1(B)$\n",
    "<br> Now, $\\mu(A - B) = 0 \\implies \\mu_1(A) = \\mu_1 (B)$, and $\\mu_2(A) = \\mu_2 (B)$.\n",
    "\n",
    "$\\implies \\int_A f d\\mu = \\int_B f d\\mu$"
   ]
  },
  {
   "cell_type": "code",
   "execution_count": null,
   "metadata": {},
   "outputs": [],
   "source": []
  }
 ],
 "metadata": {
  "kernelspec": {
   "display_name": "Python 3",
   "language": "python",
   "name": "python3"
  },
  "language_info": {
   "codemirror_mode": {
    "name": "ipython",
    "version": 3
   },
   "file_extension": ".py",
   "mimetype": "text/x-python",
   "name": "python",
   "nbconvert_exporter": "python",
   "pygments_lexer": "ipython3",
   "version": "3.6.5"
  }
 },
 "nbformat": 4,
 "nbformat_minor": 2
}
