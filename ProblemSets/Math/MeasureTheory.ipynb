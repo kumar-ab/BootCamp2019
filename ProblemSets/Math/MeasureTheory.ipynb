{
 "cells": [
  {
   "cell_type": "markdown",
   "metadata": {},
   "source": [
    "# Introduction to Measure Theory"
   ]
  },
  {
   "cell_type": "markdown",
   "metadata": {},
   "source": [
    "### Exercise 1.3\n",
    "Let $X = {\\rm I\\!R}$. Define:\n",
    "\n",
    "1. $\\mathcal{G}_1 = \\{A : A \\subset \\mathbb{R}, A \\text{ open} \\}$\n",
    "<br>\n",
    "2. $\\mathcal{G}_2 = \\{A : A \\text{ is a finite union of intervals of the form }(a,b], (-\\infty,b] \\text{, and }(a,\\infty) \\}$\n",
    "<br>\n",
    "3. $\\mathcal{G}_3 = \\{A : A \\text{ is a countable union of }(a,b], (-\\infty,b] \\text{, and }(a,\\infty)\\}$\n",
    "<br>\n",
    "Which of these are algebras? Which are even $\\sigma$-algebras?"
   ]
  },
  {
   "cell_type": "markdown",
   "metadata": {},
   "source": [
    "### Solution:\n",
    "1. For $A \\in \\mathcal{G}_1 \\\\\n",
    "\\because A \\text{ is open on }\\mathbb{R}\\\\\n",
    "\\therefore {A}^c \\text{ will not be open on }\\mathbb{R}$\n",
    "<br>\n",
    "$\\implies {A}^c \\notin \\mathcal{G}_1$.\n",
    "<br> Hence $\\mathcal{G}_1$ is not an algebra (and thereby not $\\sigma$-algebra).\n",
    "\n",
    "\n",
    "2. By definition, for ${A}_n \\in \\mathcal{G}_2 \\text{, } \\bigcup_{n=1}^{N}A_{n} \\in \\mathcal{G}_2$\n",
    "<br>\n",
    "(as $\\bigcup_{n=1}^{N}A_{n}$ will be a finite union of the intervals of the form $(-\\infty, b], (a,b]$ and  $(a, \\infty)$).\n",
    "<br>\n",
    "Also, $\\forall \\ A \\in \\mathcal{G}_2 \\text{ , }{A}^c  \\in \\mathcal{G}_2$\n",
    "<br>\n",
    "$\\implies \\mathcal{G}_2$ is an algebra\n",
    "<br>\n",
    "All the same, $\\bigcup_{n=1}^{\\infty}A_{n} \\notin \\mathcal{G}_2$ as $\\mathcal{G}_2$ is only a finite union of such intervals\n",
    "<br>\n",
    "Hence, $\\mathcal{G}_2$ is an algebra but not a $\\sigma$-algebra.\n",
    "\n",
    "\n",
    "3. Looking at 2 above and the definition of $\\mathcal{G}_3$, it is clear that $\\mathcal{G}_3$ is an algebra\n",
    "<br>\n",
    "Also, $\\bigcup_{n=1}^{\\infty}A_{n} \\in \\mathcal{G}_3$ as $\\mathcal{G}_3$ is only a countable union of such intervals\n",
    "<br>\n",
    "Hence, $\\mathcal{G}_1$ is a $\\sigma$-algebra."
   ]
  },
  {
   "cell_type": "markdown",
   "metadata": {},
   "source": [
    "### Exercise 1.7 - Solution:\n",
    "Consider a $\\sigma$-algebra $\\mathcal{A}$\n",
    "<br> 1. By defnition, $\\phi \\in \\mathcal{A}$. Also, for the set , $\\{\\phi, X\\}$, ${\\phi}^c = X \\in \\mathcal{A}$\n",
    "<br> $\\implies \\{\\phi, X\\} \\subset \\mathcal{A}$.\n",
    "<br> 2. Now consider any $A \\in \\mathcal{A}$. Clealy $A \\subset X \\implies A \\in \\mathcal{P}(X)$.\n",
    "<br> $\\implies \\mathcal{A} \\subset \\mathcal{P}(X)$.\n",
    "<br> Thus from 1 & 2 above, $\\{\\phi, X\\} \\subset A \\subset \\mathcal{P}(X)$"
   ]
  },
  {
   "cell_type": "markdown",
   "metadata": {},
   "source": [
    "### Exercise 1.10 - Solution:\n",
    "$\\because \\{S_\\alpha\\}$ is a family of $\\sigma$-algebras on X,\n",
    "<br> $\\therefore \\phi \\in S_\\alpha$ for all $\\alpha$\n",
    "<br> $\\implies \\phi \\in \\bigcap_{\\alpha}S_\\alpha$.\n",
    "<br>\n",
    "<br> Consider any $A \\in  \\bigcap_{\\alpha}S_\\alpha$. $\\implies A \\in S_\\alpha$ for each $\\alpha$\n",
    "<br> $\\because$ each $S_\\alpha$ is a $\\sigma$ - algebra\n",
    "<br> $\\therefore A^c \\in S_\\alpha$ for all $\\alpha$\n",
    "<br> $\\implies A^c \\in \\bigcap_{\\alpha}S_\\alpha$.\n",
    "<br>\n",
    "<br> Now consider $\\{A_n\\} \\in \\bigcap_{\\alpha}(S_\\alpha)$. $\\implies A_n \\in S_\\alpha$ for all $\\alpha$\n",
    "<br> $\\because$ each $S_\\alpha$ is a $\\sigma$-algebra\n",
    "<br> $\\therefore \\bigcup_{n=1}^{\\infty}A_n \\in S_\\alpha$ for all $\\alpha$. $\\implies \\bigcup_{n=1}^{\\infty}A_n \\in \\bigcap_{\\alpha}S_\\alpha$.\n",
    "<br> Hence $\\bigcap_{\\alpha}S_\\alpha$ is also a $\\sigma$- algebra."
   ]
  },
  {
   "cell_type": "markdown",
   "metadata": {},
   "source": [
    "### Exercise 1.22 - Solution:\n",
    "Consider sets $A, B \\in \\mathcal{S}$, where $A \\subset B$.\n",
    "<br> Now consider a set $C = A^c \\cap B$.\n",
    "<br> As $\\mathcal{S}$ is a $\\sigma$-algebra, $C \\in \\mathcal{S}$. Also, $A \\cap C = \\phi$. \n",
    "<br> $\\because \\mu$ is a measure\n",
    "<br> $\\therefore \\mu(A \\cup C) = \\mu(A) + \\mu(C)$\n",
    "<br> $\\implies \\mu(B) = \\mu(A) + \\mu(C)$\n",
    "<br> As $\\mu$ is non-negative by definition, $\\mu(C) \\ge 0$.\n",
    "<br> Hence $\\mu(A) \\le \\mu(B) \\implies \\mu$ is monotone.\n",
    "\n",
    "Now Consider 2 sets $A_1, A_2$.\n",
    "<br> $(A_1 \\cup A_2)$ can be written as $({A_1}^c \\cap A_2) \\cup (A_1 \\cap A_2) \\cup ({A_2}^c \\cap A_1) \\quad$ (i.e. union of disjoint sets)\n",
    "<br> Using the property of monotone, $\\mu(A_1 \\cup A_2) = \\mu({A_1}^c \\cap A_2) + \\mu(A_1 \\cap A_2) + \\mu({A_2}^c \\cap A_1)$\n",
    "<br> $\\implies \\mu (A_1 \\cup A_2) \\le \\mu({A_1}^c \\cap A_2) + \\mu(A_1 \\cap A_2) + \\mu({A_2}^c \\cap A_1) + \\mu(A_1 \\cap A_2)$\n",
    "<br> $\\implies \\mu (A_1 \\cup A_2) \\le \\mu(A_1) + \\mu(A_2)$.\n",
    "<br> Therefore, by induction, $\\mu(\\bigcup_{i=1}^{i=\\infty}A_i) \\le \\sum_{i=1}^{i=\\infty}\\mu(A_i)$."
   ]
  },
  {
   "cell_type": "markdown",
   "metadata": {},
   "source": [
    "### Exercise 1.23 -  Solution:\n",
    "$\\lambda(\\phi) = \\mu(\\phi \\cap B) = \\mu(\\phi) = 0$.\n",
    "<br> Consider a collection of disjoint sets $\\{A_i\\}_{i=1}^{i= \\infty}$, \n",
    "<br> $\\lambda(\\bigcup_{i=1}^{i = \\infty}A_i) = \\mu(B \\cap \\bigcup_{i=1}^{i = \\infty}A_i) = \\mu(\\bigcup_{i=1}^{i=\\infty}(B \\cap A_i))$\n",
    "<br> Now, all $A_i$'s are disjoint, $\\implies (B\\cap A_i)$'s are also disjoint.\n",
    "<br> As $\\mu$ is a measure, $\\mu(\\bigcup_{i=1}^{i=\\infty}(B \\cap A_i))  = \\sum_{i=1}^{i=\\infty}\\mu(B \\cap A_i) = \\sum_{i=1}^{i=\\infty} \\lambda(A_i)$.\n",
    "<br> Thus $\\lambda(\\bigcup_{i=1}^{i = \\infty}A_i) = \\sum_{i=1}^{i=\\infty} \\lambda(A_i) \\implies \\lambda$ is a measure."
   ]
  },
  {
   "cell_type": "markdown",
   "metadata": {},
   "source": [
    "### Exercise 1.26 -  Solution:\n",
    "Let $B_n = A_1 \\cap A^c_n\\quad$ (clearly $B_1 = \\phi$)\n",
    "<br>Thus $A_1 \\supset A_2 \\supset A_n \\supset ... $ is equivalent to $B_1 \\subset B_2 \\subset B_n \\subset ... $\n",
    "\n",
    "From theorem  1.25(i), $\\lim_{n \\rightarrow \\infty}\\mu(B_n) = \\mu(\\bigcup_{n=1}^{n=\\infty}(B_n))$\n",
    "<br>$\\implies \\lim_{n \\rightarrow \\infty}\\mu(A_1 \\cap A^c_n) = \\mu(\\bigcup_{n=1}^{n=\\infty}(A_1 \\cap A^c_n))$\n",
    "<br>$\\implies \\lim_{n \\rightarrow \\infty}\\mu(A^c_1 \\cup A_n) = \\mu(A^c_1) + \\mu(\\bigcup_{n=1}^{n=\\infty}A_n)$\n",
    "<br>As, $\\mu(A_1) < \\infty$, $\\quad \\lim_{n \\rightarrow \\infty}\\mu(A_n) = \\mu(\\bigcup_{n=1}^{n=\\infty}A_n)$\n"
   ]
  },
  {
   "cell_type": "code",
   "execution_count": null,
   "metadata": {},
   "outputs": [],
   "source": []
  }
 ],
 "metadata": {
  "kernelspec": {
   "display_name": "Python 3",
   "language": "python",
   "name": "python3"
  },
  "language_info": {
   "codemirror_mode": {
    "name": "ipython",
    "version": 3
   },
   "file_extension": ".py",
   "mimetype": "text/x-python",
   "name": "python",
   "nbconvert_exporter": "python",
   "pygments_lexer": "ipython3",
   "version": "3.6.5"
  }
 },
 "nbformat": 4,
 "nbformat_minor": 2
}
