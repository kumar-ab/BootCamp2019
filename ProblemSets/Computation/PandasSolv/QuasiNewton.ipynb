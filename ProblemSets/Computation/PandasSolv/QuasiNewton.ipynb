{
 "cells": [
  {
   "cell_type": "markdown",
   "metadata": {},
   "source": [
    "# Newton and Quasi-Newton Methods"
   ]
  },
  {
   "cell_type": "code",
   "execution_count": 1,
   "metadata": {},
   "outputs": [],
   "source": [
    "import numpy as np\n",
    "import scipy.optimize as opt\n",
    "import matplotlib.pyplot as plt\n",
    "import time"
   ]
  },
  {
   "cell_type": "markdown",
   "metadata": {},
   "source": [
    "### Problem 1"
   ]
  },
  {
   "cell_type": "code",
   "execution_count": 2,
   "metadata": {},
   "outputs": [
    {
     "name": "stdout",
     "output_type": "stream",
     "text": [
      "The method converged in  6 iterations\n",
      "x= [1. 1.]\n",
      "\n",
      "Results from opt.fmin_bfgs:\n",
      "Optimization terminated successfully.\n",
      "         Current function value: 0.000000\n",
      "         Iterations: 35\n",
      "         Function evaluations: 42\n",
      "         Gradient evaluations: 42\n",
      "[1.00000021 1.00000045]\n",
      "[1.00000021 1.00000045]\n"
     ]
    }
   ],
   "source": [
    "def newton_method(df, d2f, x0, maxiter, tol):\n",
    "    x_k = x0\n",
    "    converged = False\n",
    "    for itr in range(maxiter):\n",
    "        df_xk = df(x_k)\n",
    "        d2f_xk = d2f(x_k)\n",
    "        z_k = np.linalg.solve(d2f_xk, df_xk)\n",
    "        x_kp1 = x_k - z_k\n",
    "        err = np.linalg.norm(df_xk, np.inf)\n",
    "        if err < tol:\n",
    "            converged = True\n",
    "            break\n",
    "        x_k = x_kp1\n",
    "    return x_k, converged, itr+1\n",
    "\n",
    "f = opt.rosen           # The Rosenbrock function.\n",
    "df = opt.rosen_der      # The first derivative.\n",
    "d2f = opt.rosen_hess    # The second derivative (Hessian).\n",
    "result1 = newton_method(df, d2f, [-2, 2], 50, 1e-5)\n",
    "if result1[1]:\n",
    "    print(\"The method converged in \", result1[2], \"iterations\")\n",
    "    print(\"x=\", result1[0])\n",
    "else:\n",
    "    print(\"The method did not converge\")\n",
    "print(\"\\nResults from opt.fmin_bfgs:\")\n",
    "result2 = opt.fmin_bfgs(f=f, x0=[-2,2], fprime=df)\n",
    "print(result2)\n",
    "print(result2)"
   ]
  },
  {
   "cell_type": "markdown",
   "metadata": {},
   "source": [
    "### Problem 2"
   ]
  },
  {
   "cell_type": "code",
   "execution_count": 3,
   "metadata": {},
   "outputs": [
    {
     "name": "stdout",
     "output_type": "stream",
     "text": [
      "The method converged in  149 iterations\n",
      "x= [1. 1.]\n"
     ]
    }
   ],
   "source": [
    "def BFGS(df, x0, maxiter, tol):\n",
    "    x_k = x0\n",
    "    invA_k = np.eye(len(x0))\n",
    "    converged = False\n",
    "    terminated = False\n",
    "    for itr in range(maxiter):\n",
    "        df_xk = df(x_k)\n",
    "        x_kp1 = x_k - (invA_k @ df_xk.T)\n",
    "        s_k = x_kp1 - x_k\n",
    "        df_xkp1 = df(x_kp1)\n",
    "        y_k = df_xkp1.T - df_xk.T\n",
    "        den2 = s_k.T @ y_k\n",
    "        den1 = (den2) ** 2\n",
    "        \n",
    "        # Condition for early termination\n",
    "        if den1 < 1e-50:\n",
    "            terminated = True\n",
    "            break\n",
    "        num1 = (den2 + y_k.T @ invA_k @ y_k) * np.outer(s_k, s_k)\n",
    "        num2 = invA_k @ np.outer(y_k, s_k) + np.outer(s_k, y_k) @ invA_k\n",
    "        invA_kp1 = invA_k + num1/den1 - num2/den2\n",
    "        \n",
    "        err = np.linalg.norm(df_xk, np.inf)\n",
    "        if err < tol:\n",
    "            converged = True\n",
    "            break\n",
    "        x_k = x_kp1\n",
    "        invA_k = invA_kp1\n",
    "    return x_k, converged, terminated, itr+1\n",
    "\n",
    "result = BFGS(df, [-2, 2], 200, 1e-5)\n",
    "if result[2]:\n",
    "    print(\"Terminated in\",  result[3], \"iterations to avoid dividing by 0\")\n",
    "if result[1]:\n",
    "    print(\"The method converged in \", result[3], \"iterations\")\n",
    "    print(\"x=\", result1[0])\n",
    "else:\n",
    "    print(\"The method did not converge\")"
   ]
  },
  {
   "cell_type": "markdown",
   "metadata": {},
   "source": [
    "### Problem 3"
   ]
  },
  {
   "cell_type": "code",
   "execution_count": 4,
   "metadata": {},
   "outputs": [
    {
     "data": {
      "image/png": "[encoded data removed]",
      "text/plain": [
       "<Figure size 720x432 with 1 Axes>"
      ]
     },
     "metadata": {},
     "output_type": "display_data"
    }
   ],
   "source": [
    "# Define the function\n",
    "def cmprsn_plot(N):\n",
    "    n_iters = np.zeros(N)\n",
    "    n_time = np.zeros(N, dtype=np.float64)\n",
    "    bfgs_iters = np.zeros(N)\n",
    "    bfgs_time = np.zeros(N, dtype=np.float64)\n",
    "    scipy_iters = np.zeros(N)\n",
    "    scipy_time = np.zeros(N, dtype=np.float64)\n",
    "    \n",
    "    for i in range(N):\n",
    "        # Saple initial random guess\n",
    "        x0 = np.random.uniform(-3, 3, size=2)\n",
    "        # time for the newton's method\n",
    "        n_start = time.time()\n",
    "        n_iters[i] = newton_method(df, d2f, x0, 200, 1e-5)[2]\n",
    "        n_time[i] = time.time() - n_start\n",
    "        \n",
    "        # time for the BFGS method\n",
    "        bfgs_start = time.time()\n",
    "        bfgs_iters[i] = BFGS(df, x0, 200, 1e-5)[2]\n",
    "        bfgs_time[i] = time.time() - bfgs_start\n",
    "        \n",
    "        scipy_start = time.time()\n",
    "        scipy_iters[i] = len(opt.fmin_bfgs(f=f, x0=x0, fprime=df, disp=False, retall=True)[1])\n",
    "        scipy_time[i] = time.time() - scipy_start\n",
    "    \n",
    "    plt.figure(figsize=(10, 6))\n",
    "    plt.loglog()\n",
    "    plt.scatter(n_time, n_iters, alpha=0.4, label=\"Newton\\'s Method\")\n",
    "    plt.scatter(bfgs_time, bfgs_iters, alpha=0.4, label=\"BFGS\")\n",
    "    plt.scatter(scipy_time, scipy_iters, alpha=0.4, label=\"scipy.optimize.fmin_bfgs()\")\n",
    "    #plt.loglog()\n",
    "    plt.xlabel('Time (seconds)')\n",
    "    plt.ylabel('Iterations')\n",
    "    plt.legend()\n",
    "    plt.show()\n",
    "\n",
    "# Call the function\n",
    "cmprsn_plot(100)"
   ]
  },
  {
   "cell_type": "markdown",
   "metadata": {},
   "source": [
    "### Problem 4"
   ]
  },
  {
   "cell_type": "code",
   "execution_count": 5,
   "metadata": {},
   "outputs": [
    {
     "name": "stdout",
     "output_type": "stream",
     "text": [
      "(array([3.21914215, 0.48334913]), True, 4)\n",
      "(array([3.21973435, 0.48389808]), 1)\n"
     ]
    }
   ],
   "source": [
    "def gauss_newton(phi, r, J, x0, maxiter=10000, tol=1e-6):\n",
    "    x_k = x0\n",
    "    converged = False\n",
    "    for iter in range (maxiter):\n",
    "        r_xk = r(x_k)\n",
    "        J_xk = J(x_k)\n",
    "        Df_xk = J_xk.T @ r_xk\n",
    "        D2f_xk = J_xk.T @ J_xk\n",
    "        z_k = np.linalg.solve(D2f_xk, Df_xk)\n",
    "        x_kp1 = x_k - z_k\n",
    "        err = np.linalg.norm(x_kp1 - x_k, np.inf)\n",
    "        if err < tol:\n",
    "            converged = True\n",
    "            break\n",
    "        x_k = x_kp1\n",
    "    niters = iter+1\n",
    "    return x_k, converged, niters\n",
    "# Generate random data\n",
    "T = np.arange(10)\n",
    "y = 3*np.sin(0.5*T)+ 0.5*np.random.randn(10)\n",
    "# Define model function\n",
    "model = lambda x, t: x[0]*np.sin(x[1]*t)\n",
    "residual = lambda x: model(x, T) - y\n",
    "# Define jacobian\n",
    "jac = lambda x: np.column_stack((np.sin(x[1]*T), x[0]*T*np.cos(x[1]*T)))\n",
    "# Call the function with x0\n",
    "x0 = np.array([2.5,.6])\n",
    "result = gauss_newton(model, residual, jac, x0, maxiter=10, tol=1e-3)\n",
    "\n",
    "# call scipy.optimize.leastsq()\n",
    "minx = opt.leastsq(func=residual, x0=np.array([2.5,.6]), Dfun=jac)\n",
    "print(result)\n",
    "print(minx)"
   ]
  },
  {
   "cell_type": "markdown",
   "metadata": {},
   "source": [
    "### Problem 5"
   ]
  },
  {
   "cell_type": "code",
   "execution_count": 6,
   "metadata": {},
   "outputs": [
    {
     "data": {
      "image/png": "[encoded data removed]",
      "text/plain": [
       "<Figure size 432x288 with 1 Axes>"
      ]
     },
     "metadata": {},
     "output_type": "display_data"
    }
   ],
   "source": [
    "# Load data\n",
    "population = np.load('population.npy')\n",
    "# Define function\n",
    "T = population[:, 0]\n",
    "y = population[:, 1]\n",
    "\n",
    "# model with the exponential function\n",
    "model1 = lambda x, t: x[0]*np.exp(x[1]*(t+x[2]))\n",
    "residual1 = lambda x: model1(x, T) - y\n",
    "jac1 = lambda x: np.column_stack((np.exp(x[1]*(T+x[2])), x[0]*(T+x[2])*np.exp(x[1]*(T+x[2])), x[0]*x[1]*np.exp(x[1]*(T+x[2]))))\n",
    "x0 = np.array([1.5, 0.4, 2.5])\n",
    "x1, conv1, niters1 = gauss_newton(model1, residual1, jac1, x0, maxiter=10, tol=1e-5)\n",
    "\n",
    "# model with the logistic function\n",
    "model2 = lambda x, t: x[0]/(1+np.exp(-x[1]*(t+x[2])))\n",
    "residual2 = lambda x: model2(x, T) - y\n",
    "jac2 = lambda x: np.column_stack((1/(1+np.exp(-x[1]*(T+x[2]))), x[0]*(T+x[2])/((1+np.exp(-x[1]*(T+x[2])))**2), x[0]*x[1]/((1+np.exp(-x[1]*(T+x[2])))**2)))\n",
    "x0 = np.array([150, 0.4, -15])\n",
    "x2, conv2, niters2 = gauss_newton(model2, residual2, jac2, x0, maxiter=10, tol=1e-3)\n",
    "plt.plot(T, y, '*', label=\"Observed Data\")\n",
    "plt.plot(T, model1(x1, T), '--', label=\"Exponential Model\")\n",
    "plt.plot(T, model2(x2, T), label=\"Logistical Model\")\n",
    "plt.legend()\n",
    "plt.show()"
   ]
  }
 ],
 "metadata": {
  "kernelspec": {
   "display_name": "Python 3",
   "language": "python",
   "name": "python3"
  },
  "language_info": {
   "codemirror_mode": {
    "name": "ipython",
    "version": 3
   },
   "file_extension": ".py",
   "mimetype": "text/x-python",
   "name": "python",
   "nbconvert_exporter": "python",
   "pygments_lexer": "ipython3",
   "version": "3.6.5"
  }
 },
 "nbformat": 4,
 "nbformat_minor": 2
}
