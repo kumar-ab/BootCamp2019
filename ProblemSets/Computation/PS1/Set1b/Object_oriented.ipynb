{
 "cells": [
  {
   "cell_type": "markdown",
   "metadata": {},
   "source": [
    "# Object Oriented Programming Lab"
   ]
  },
  {
   "cell_type": "code",
   "execution_count": 1,
   "metadata": {},
   "outputs": [],
   "source": [
    "from object_oriented import Backpack\n",
    "import numpy as np\n",
    "import scipy as sc\n",
    "from matplotlib import pyplot as plt"
   ]
  },
  {
   "cell_type": "markdown",
   "metadata": {},
   "source": [
    "## Problem 1:"
   ]
  },
  {
   "cell_type": "code",
   "execution_count": 2,
   "metadata": {},
   "outputs": [
    {
     "name": "stdout",
     "output_type": "stream",
     "text": [
      "Contents: ['pencil', 'pen', 'paper', 'computer']\n"
     ]
    }
   ],
   "source": [
    "def test_backpack():\n",
    "    testpack = Backpack(\"Barry\", \"black\") # Instantiate the object.\n",
    "    if testpack.name != \"Barry\": # Test an attribute.\n",
    "        print(\"Backpack.name assigned incorrectly\")\n",
    "    for item in [\"pencil\", \"pen\", \"paper\", \"computer\"]:\n",
    "        testpack.put(item) # Test a method.\n",
    "    print(\"Contents:\", testpack.contents)\n",
    "\n",
    "test_backpack()"
   ]
  },
  {
   "cell_type": "markdown",
   "metadata": {},
   "source": [
    "## Problem 2:"
   ]
  },
  {
   "cell_type": "code",
   "execution_count": 3,
   "metadata": {},
   "outputs": [
    {
     "name": "stdout",
     "output_type": "stream",
     "text": [
      "Fuel left now: 8\n",
      "Not enough fuel!\n"
     ]
    }
   ],
   "source": [
    "from object_oriented import Jetpack\n",
    "test_pack = Jetpack(\"Jet\", \"blue\")\n",
    "test_pack.fly(2)\n",
    "print(f\"Fuel left now: {test_pack.fuel}\")\n",
    "test_pack.fly(12)"
   ]
  },
  {
   "cell_type": "markdown",
   "metadata": {},
   "source": [
    "## Problem 3:"
   ]
  },
  {
   "cell_type": "code",
   "execution_count": null,
   "metadata": {},
   "outputs": [],
   "source": []
  },
  {
   "cell_type": "markdown",
   "metadata": {},
   "source": [
    "## Problem 4:"
   ]
  },
  {
   "cell_type": "code",
   "execution_count": null,
   "metadata": {},
   "outputs": [],
   "source": []
  }
 ],
 "metadata": {
  "kernelspec": {
   "display_name": "Python 3",
   "language": "python",
   "name": "python3"
  },
  "language_info": {
   "codemirror_mode": {
    "name": "ipython",
    "version": 3
   },
   "file_extension": ".py",
   "mimetype": "text/x-python",
   "name": "python",
   "nbconvert_exporter": "python",
   "pygments_lexer": "ipython3",
   "version": "3.6.5"
  }
 },
 "nbformat": 4,
 "nbformat_minor": 2
}
