{
 "cells": [
  {
   "cell_type": "markdown",
   "metadata": {},
   "source": [
    "# NumPy Exercises"
   ]
  },
  {
   "cell_type": "code",
   "execution_count": 1,
   "metadata": {},
   "outputs": [],
   "source": [
    "import numpy as np"
   ]
  },
  {
   "cell_type": "markdown",
   "metadata": {},
   "source": [
    "## Problem 1:"
   ]
  },
  {
   "cell_type": "code",
   "execution_count": 4,
   "metadata": {},
   "outputs": [
    {
     "name": "stdout",
     "output_type": "stream",
     "text": [
      "[[ 37  14 -32 -10]\n",
      " [-54  -7  58  65]]\n"
     ]
    }
   ],
   "source": [
    "# Problem 1\n",
    "A = np.array([[3, -1, 4], [1, 5, -9]])\n",
    "B = np.array([[2, 6, -5, 3], [5, -8, 9, 7], [9, -3, -2, -3]])\n",
    "Prod = A @ B\n",
    "print(Prod)"
   ]
  },
  {
   "cell_type": "markdown",
   "metadata": {},
   "source": [
    "## Problem 2:"
   ]
  },
  {
   "cell_type": "code",
   "execution_count": 24,
   "metadata": {},
   "outputs": [
    {
     "name": "stdout",
     "output_type": "stream",
     "text": [
      "A\n",
      "[[ 3  1  4]\n",
      " [ 1  5  9]\n",
      " [-5  3  1]]\n",
      "B\n",
      "[[0 0 0]\n",
      " [0 0 0]\n",
      " [0 0 0]]\n"
     ]
    }
   ],
   "source": [
    "# Define the function\n",
    "def funcNumpy(A):\n",
    "    out_mat = (- A @ A) @ A + 9 * (A @ A) - 15 * A\n",
    "    return out_mat\n",
    "\n",
    "# Input the matrix\n",
    "A = np.array([[3, 1, 4], [1, 5, 9], [-5, 3, 1]])\n",
    "print(\"A\")\n",
    "print(A)\n",
    "# Call the function with A\n",
    "B = funcNumpy(A)\n",
    "print(\"B\")\n",
    "print(B)"
   ]
  },
  {
   "cell_type": "markdown",
   "metadata": {},
   "source": [
    "## Problem 3:"
   ]
  },
  {
   "cell_type": "code",
   "execution_count": 16,
   "metadata": {},
   "outputs": [
    {
     "name": "stdout",
     "output_type": "stream",
     "text": [
      "[[1 1 1 1 1 1 1]\n",
      " [0 1 1 1 1 1 1]\n",
      " [0 0 1 1 1 1 1]\n",
      " [0 0 0 1 1 1 1]\n",
      " [0 0 0 0 1 1 1]\n",
      " [0 0 0 0 0 1 1]\n",
      " [0 0 0 0 0 0 1]]\n",
      "[[-1  5  5  5  5  5  5]\n",
      " [-1 -1  5  5  5  5  5]\n",
      " [-1 -1 -1  5  5  5  5]\n",
      " [-1 -1 -1 -1  5  5  5]\n",
      " [-1 -1 -1 -1 -1  5  5]\n",
      " [-1 -1 -1 -1 -1 -1  5]\n",
      " [-1 -1 -1 -1 -1 -1 -1]]\n",
      "[[ -7  -8  -3   8  25  48  77]\n",
      " [ -6 -12 -12  -6   6  24  48]\n",
      " [ -5 -10 -15 -14  -7   6  25]\n",
      " [ -4  -8 -12 -16 -14  -6   8]\n",
      " [ -3  -6  -9 -12 -15 -12  -3]\n",
      " [ -2  -4  -6  -8 -10 -12  -8]\n",
      " [ -1  -2  -3  -4  -5  -6  -7]]\n"
     ]
    }
   ],
   "source": [
    "def writeMat():\n",
    "    A = np.ones((7,7), dtype=np.int64)\n",
    "    A = np.triu(A)\n",
    "    B = np.full_like(A, 5)\n",
    "    temp = np.full_like(A, -6)\n",
    "    temp = np.tril(temp)\n",
    "    B = B + temp\n",
    "    prod = A @ B @ A\n",
    "    return (A, B, prod)\n",
    "\n",
    "(A, B, Prod) = writeMat()\n",
    "print(A)\n",
    "print(B)\n",
    "print(Prod)"
   ]
  },
  {
   "cell_type": "markdown",
   "metadata": {},
   "source": [
    "## Problem 4"
   ]
  },
  {
   "cell_type": "code",
   "execution_count": 26,
   "metadata": {},
   "outputs": [
    {
     "name": "stdout",
     "output_type": "stream",
     "text": [
      "A:\n",
      "[[-3.  2.  2.]\n",
      " [-5. -3.  2.]]\n",
      "A after fancy indexing:\n",
      "[[0. 2. 2.]\n",
      " [0. 0. 2.]]\n"
     ]
    }
   ],
   "source": [
    "def fancyIndexing(in_arr):\n",
    "    out_arr = np.copy(in_arr)\n",
    "    mask = out_arr < 0\n",
    "    out_arr[mask] = 0\n",
    "    return out_arr\n",
    "\n",
    "A = np.zeros((2,3))\n",
    "B = np.ones_like(A)\n",
    "B1 = np.triu(B)\n",
    "B2 = np.tril(B)\n",
    "B1 = B1 * 2\n",
    "B2 = B2 * -5\n",
    "A = A + B1 + B2\n",
    "print(\"A:\")\n",
    "print(A)\n",
    "C = fancyIndexing(A)\n",
    "print(\"A after fancy indexing:\")\n",
    "print(C)"
   ]
  },
  {
   "cell_type": "markdown",
   "metadata": {},
   "source": [
    "## Problem 5"
   ]
  },
  {
   "cell_type": "code",
   "execution_count": 22,
   "metadata": {},
   "outputs": [
    {
     "name": "stdout",
     "output_type": "stream",
     "text": [
      "A\n",
      "[[0 2 4]\n",
      " [1 3 5]]\n",
      "B\n",
      "[[3 0 0]\n",
      " [3 3 0]\n",
      " [3 3 3]]\n",
      "C\n",
      "[[-2  0  0]\n",
      " [ 0 -2  0]\n",
      " [ 0  0 -2]]\n",
      "out\n",
      "[[ 0.  0.  0.  0.  1.  1.  0.  0.]\n",
      " [ 0.  0.  0.  2.  3.  0.  1.  0.]\n",
      " [ 0.  0.  0.  4.  5.  0.  0.  1.]\n",
      " [ 0.  2.  4.  0.  0.  0.  0.  0.]\n",
      " [ 1.  3.  5.  0.  0.  0.  0.  0.]\n",
      " [ 3.  0.  0.  0.  0. -2.  0.  0.]\n",
      " [ 3.  3.  0.  0.  0.  0. -2.  0.]\n",
      " [ 3.  3.  3.  0.  0.  0.  0. -2.]]\n"
     ]
    }
   ],
   "source": [
    "def matABC():\n",
    "    A = np.arange(6).reshape((3,2))\n",
    "    A = A.T\n",
    "    B = np.full((3,3), 3)\n",
    "    B = np.tril(B)\n",
    "    C = np.diag([-2, -2, -2])\n",
    "    return (A, B, C)\n",
    "\n",
    "(A, B, C) = matABC()\n",
    "print(\"A\")\n",
    "print(A)\n",
    "print(\"B\")\n",
    "print(B)\n",
    "print(\"C\")\n",
    "print(C)\n",
    "I = np.eye(3)\n",
    "O_3_3 = np.zeros((3,3))\n",
    "O_2_2 = np.zeros((2,2))\n",
    "O_3_2 = np.zeros((3,2))\n",
    "O_2_3 = np.zeros((2,3))\n",
    "out = np.hstack((np.vstack((np.zeros((3,3)), A, B)), np.vstack((A.T, np.zeros((2,2)), np.zeros((3,2)))), np.vstack((I, np.zeros((2,3)), C))))\n",
    "print(\"out\")\n",
    "print(out)"
   ]
  },
  {
   "cell_type": "markdown",
   "metadata": {},
   "source": [
    "## Problem 6"
   ]
  },
  {
   "cell_type": "code",
   "execution_count": 33,
   "metadata": {},
   "outputs": [
    {
     "name": "stdout",
     "output_type": "stream",
     "text": [
      "A:\n",
      "[[0 2 3]\n",
      " [4 1 5]]\n",
      "Row stochastic of A:\n",
      "[[0.  0.4 0.6]\n",
      " [0.4 0.1 0.5]]\n"
     ]
    }
   ],
   "source": [
    "def stochastic(in_mat):\n",
    "    row_sum = in_mat.sum(axis=1)\n",
    "    n = row_sum.size\n",
    "    row_sum = row_sum.reshape(n,1)\n",
    "    out_mat = np.copy(in_mat)\n",
    "    out_mat = out_mat / row_sum\n",
    "    return out_mat\n",
    "A = np.array([[0, 2, 3], [4, 1, 5]])\n",
    "print(\"A:\")\n",
    "print(A)\n",
    "B = stochastic(A)\n",
    "print(\"Row stochastic of A:\")\n",
    "print(B)"
   ]
  },
  {
   "cell_type": "markdown",
   "metadata": {},
   "source": [
    "## Problem 7"
   ]
  },
  {
   "cell_type": "code",
   "execution_count": 44,
   "metadata": {},
   "outputs": [
    {
     "name": "stdout",
     "output_type": "stream",
     "text": [
      "Greatest product of four adjacent numbers is: 51267216\n"
     ]
    }
   ],
   "source": [
    "grid = np.load(\"grid.npy\")\n",
    "(r,c) = grid.shape\n",
    "# Initiate the output to 0\n",
    "max_prod_4 = 0\n",
    "# Loop across the grid for all combinations of 4x4 matrices\n",
    "for i in range(r-3):\n",
    "    for j in range(c-3):\n",
    "        # Down\n",
    "        Down = grid[i, j] * grid[i, j+1] * grid[i, j+2] * grid[i, j+3]\n",
    "        # Right\n",
    "        Right = grid[i, j] * grid[i+1, j] * grid[i+2, j] * grid[i+3, j]\n",
    "        # Diagonal\n",
    "        Diag = grid[i, j] * grid[i+1, j+1] * grid[i+2, j+2] * grid[i+3, j+3]\n",
    "        max_prod_4 = np.max([max_prod_4, Down, Right, Diag])\n",
    "print(\"Greatest product of four adjacent numbers is: \" + str (max_prod_4))"
   ]
  },
  {
   "cell_type": "code",
   "execution_count": null,
   "metadata": {},
   "outputs": [],
   "source": []
  }
 ],
 "metadata": {
  "kernelspec": {
   "display_name": "Python 3",
   "language": "python",
   "name": "python3"
  },
  "language_info": {
   "codemirror_mode": {
    "name": "ipython",
    "version": 3
   },
   "file_extension": ".py",
   "mimetype": "text/x-python",
   "name": "python",
   "nbconvert_exporter": "python",
   "pygments_lexer": "ipython3",
   "version": "3.6.5"
  }
 },
 "nbformat": 4,
 "nbformat_minor": 2
}
