{
 "cells": [
  {
   "cell_type": "markdown",
   "metadata": {},
   "source": [
    "# Exception and File I/O Lab"
   ]
  },
  {
   "cell_type": "markdown",
   "metadata": {},
   "source": [
    "## Problem 2"
   ]
  },
  {
   "cell_type": "code",
   "execution_count": 1,
   "metadata": {},
   "outputs": [
    {
     "name": "stdout",
     "output_type": "stream",
     "text": [
      "process completed\n",
      "current position: 44\n"
     ]
    }
   ],
   "source": [
    "from random import choice\n",
    "\n",
    "def random_walk(max_iters=1e12):\n",
    "    walk = 0\n",
    "    directions = [1, -1]\n",
    "    try:\n",
    "        for i in range(int(max_iters)):\n",
    "            walk += choice(directions)\n",
    "    except KeyboardInterrupt:\n",
    "        print(\"Process interruted at iteration {i}\")\n",
    "    print(\"process completed\")\n",
    "    return walk\n",
    "\n",
    "walked = random_walk(10000)\n",
    "print(f\"current position: {walked}\")"
   ]
  },
  {
   "cell_type": "code",
   "execution_count": 3,
   "metadata": {},
   "outputs": [
    {
     "name": "stdout",
     "output_type": "stream",
     "text": [
      "Please enter a valid file name: Hello\n",
      "Please enter a valid file name: Hello_world\n",
      "Please enter a valid file name: Hello_world.txt\n"
     ]
    }
   ],
   "source": [
    "from object_oriented import ContentFilter\n",
    "\n",
    "cf1 = ContentFilter(\"Hello.txt\")\n",
    "cf1.f_open()"
   ]
  },
  {
   "cell_type": "code",
   "execution_count": null,
   "metadata": {},
   "outputs": [],
   "source": []
  }
 ],
 "metadata": {
  "kernelspec": {
   "display_name": "Python 3",
   "language": "python",
   "name": "python3"
  },
  "language_info": {
   "codemirror_mode": {
    "name": "ipython",
    "version": 3
   },
   "file_extension": ".py",
   "mimetype": "text/x-python",
   "name": "python",
   "nbconvert_exporter": "python",
   "pygments_lexer": "ipython3",
   "version": "3.6.5"
  }
 },
 "nbformat": 4,
 "nbformat_minor": 2
}
