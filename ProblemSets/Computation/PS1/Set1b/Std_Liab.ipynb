{
 "cells": [
  {
   "cell_type": "markdown",
   "metadata": {},
   "source": [
    "# Python Standard Library Lab"
   ]
  },
  {
   "cell_type": "markdown",
   "metadata": {},
   "source": [
    "## Problem 1"
   ]
  },
  {
   "cell_type": "code",
   "execution_count": 1,
   "metadata": {},
   "outputs": [
    {
     "name": "stdout",
     "output_type": "stream",
     "text": [
      "List: \n",
      "[2, 5, 7, 8, 17]\n",
      "max = 17\n",
      "min = 2\n",
      "avg = 7.8\n"
     ]
    }
   ],
   "source": [
    "def max_min_avg(in_list):\n",
    "    o_max = max(in_list) # Max\n",
    "    o_min = min(in_list) # Min\n",
    "    o_avg = sum(in_list)/len(in_list) # Average\n",
    "    return (o_max, o_min, o_avg)\n",
    "L = [2, 5, 7, 8, 17]\n",
    "print(\"List: \")\n",
    "print(L)\n",
    "(A, B, C) = max_min_avg(L)\n",
    "print(\"max = \" + str(A))\n",
    "print(\"min = \" + str(B))\n",
    "print(\"avg = \" + str(C))"
   ]
  },
  {
   "cell_type": "markdown",
   "metadata": {},
   "source": [
    "## Problem 2"
   ]
  },
  {
   "cell_type": "code",
   "execution_count": 2,
   "metadata": {},
   "outputs": [
    {
     "name": "stdout",
     "output_type": "stream",
     "text": [
      "int is immutable\n",
      "str is immutable\n",
      "list is mutable\n",
      "tuple is immutable\n",
      "set is mutable\n"
     ]
    }
   ],
   "source": [
    "int_1 = 5\n",
    "str_1 = \"test\"\n",
    "list_1 = ['a', 2, 5, 'c', 'x']\n",
    "tpl_1 = (1, 2, 3)\n",
    "set_1 = {\"a\", \"e\", \"i\", \"o\"}\n",
    "\n",
    "# assign the objects a new name\n",
    "int_2 = int_1\n",
    "str_2 = str_1\n",
    "list_2 = list_1\n",
    "tpl_2 = tpl_1\n",
    "set_2 = set_1\n",
    "\n",
    "# change the new objects\n",
    "int_2 += 1\n",
    "str_2 = \"changed\"\n",
    "list_2.append(0)\n",
    "tpl_2 += (4,)\n",
    "set_2.add(\"u\")\n",
    "# Check whether the objects are mutable or immutable\n",
    "if int_1 == int_2:\n",
    "    print(\"int is mutable\")\n",
    "else:\n",
    "    print(\"int is immutable\")\n",
    "if str_1 == str_2:\n",
    "    print(\"str is mutable\")\n",
    "else:\n",
    "    print(\"str is immutable\")\n",
    "if list_1 == list_2:\n",
    "    print(\"list is mutable\")\n",
    "else:\n",
    "    print(\"list is immutable\")\n",
    "if tpl_1 == tpl_2:\n",
    "    print(\"tuple is mutable\")\n",
    "else:\n",
    "    print(\"tuple is immutable\")\n",
    "if set_1 == set_2:\n",
    "    print(\"set is mutable\")\n",
    "else:\n",
    "    print(\"set is immutable\")"
   ]
  },
  {
   "cell_type": "markdown",
   "metadata": {},
   "source": [
    "## Problem 3\n",
    "A separate module has been created as directed in the exercise."
   ]
  },
  {
   "cell_type": "code",
   "execution_count": 3,
   "metadata": {},
   "outputs": [],
   "source": [
    "run calculator.py"
   ]
  },
  {
   "cell_type": "code",
   "execution_count": 4,
   "metadata": {},
   "outputs": [
    {
     "name": "stdout",
     "output_type": "stream",
     "text": [
      "Running the doesn't execute anything!\n"
     ]
    }
   ],
   "source": [
    "print(\"Running the doesn't execute anything!\")"
   ]
  },
  {
   "cell_type": "code",
   "execution_count": 5,
   "metadata": {},
   "outputs": [
    {
     "name": "stdout",
     "output_type": "stream",
     "text": [
      "Importing also doesn't execute anything!\n"
     ]
    }
   ],
   "source": [
    "import calculator as calc\n",
    "print(\"Importing also doesn't execute anything!\")"
   ]
  },
  {
   "cell_type": "code",
   "execution_count": 6,
   "metadata": {},
   "outputs": [
    {
     "name": "stdout",
     "output_type": "stream",
     "text": [
      "Please enter the perpendicular of the right triangle:3\n",
      "Please enter the base of the right triangle:4\n",
      "The hypotenuse is: 5.0\n"
     ]
    }
   ],
   "source": [
    "# Function to accept the perpendicular and base of a right triangle\n",
    "def input_sides():\n",
    "    p = float(input(\"Please enter the perpendicular of the right triangle:\"))\n",
    "    b = float(input(\"Please enter the base of the right triangle:\"))\n",
    "    return (p, b)\n",
    "(p, b) = input_sides()\n",
    "h = sqrt(calc.sum_of_two(calc.prod_of_two(p, p), calc.prod_of_two(b, b)))\n",
    "print (\"The hypotenuse is: \" + str(h))"
   ]
  },
  {
   "cell_type": "markdown",
   "metadata": {},
   "source": [
    "## Problem 4"
   ]
  },
  {
   "cell_type": "code",
   "execution_count": 7,
   "metadata": {},
   "outputs": [
    {
     "name": "stdout",
     "output_type": "stream",
     "text": [
      "A:\n",
      "{1, 2, 3}\n",
      "Power set of A:\n",
      "{(1, 2), (), (1, 3), (2, 3), (1,), (2,), (3,), (1, 2, 3)}\n"
     ]
    }
   ],
   "source": [
    "from itertools import combinations\n",
    "def power_set(set_in):\n",
    "    l = len(set_in)\n",
    "    power_out = {()}\n",
    "    for i in range(l):\n",
    "        power_out = power_out.union(set(combinations(set_in,i+1)))\n",
    "    return power_out\n",
    "A = {1, 2, 3}\n",
    "print(\"A:\")\n",
    "print(A)\n",
    "pwr_A = power_set(A)\n",
    "print(\"Power set of A:\")\n",
    "print(pwr_A)"
   ]
  },
  {
   "cell_type": "markdown",
   "metadata": {},
   "source": [
    "## Problem 5\n",
    "Seperate file *shut_the_box.py* created for this exercise"
   ]
  }
 ],
 "metadata": {
  "kernelspec": {
   "display_name": "Python 3",
   "language": "python",
   "name": "python3"
  },
  "language_info": {
   "codemirror_mode": {
    "name": "ipython",
    "version": 3
   },
   "file_extension": ".py",
   "mimetype": "text/x-python",
   "name": "python",
   "nbconvert_exporter": "python",
   "pygments_lexer": "ipython3",
   "version": "3.6.5"
  }
 },
 "nbformat": 4,
 "nbformat_minor": 2
}
