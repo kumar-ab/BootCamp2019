{
 "cells": [
  {
   "cell_type": "markdown",
   "metadata": {},
   "source": [
    "# Newton's Method Lab"
   ]
  },
  {
   "cell_type": "code",
   "execution_count": 1,
   "metadata": {},
   "outputs": [],
   "source": [
    "import numpy as np\n",
    "from scipy import optimize as opt\n",
    "from matplotlib import pyplot as plt"
   ]
  },
  {
   "cell_type": "markdown",
   "metadata": {},
   "source": [
    "## Problem 1:"
   ]
  },
  {
   "cell_type": "code",
   "execution_count": 2,
   "metadata": {},
   "outputs": [
    {
     "name": "stdout",
     "output_type": "stream",
     "text": [
      "For f(x) = e(x) - 2 :\n",
      "The function converged\n",
      "No. of iteration needed = 4\n",
      "x_bar = 0.6931471805600254, f(x_bar) = 1.603162047558726e-13\n",
      "For f(x) = x^4 - 3 :\n",
      "The function converged\n",
      "No. of iteration needed = 5\n",
      "x_bar = 1.3160740129543826, f(x_bar) = 1.723465814507108e-11\n",
      "\n",
      "Results from scipy optimizer\n",
      "\n",
      "For f(x) = e(x) - 2 :\n",
      "x_bar = 0.6931471805600254, f(x_bar) = 1.603162047558726e-13\n",
      "For f(x) = x^4 - 3 :\n",
      "x_bar = 1.3160740129543826, f(x_bar) = 1.723465814507108e-11\n"
     ]
    }
   ],
   "source": [
    "def newtons(f, f_p, x_k, tol=1e-5, m_itr=15):\n",
    "    for itr in range(m_itr):\n",
    "        x_kp1 = x_k - f(x_k)/f_p(x_k)\n",
    "        converge = False\n",
    "        if abs(x_kp1 - x_k) < tol:\n",
    "            converge = True\n",
    "            break\n",
    "        x_k = x_kp1\n",
    "    return (x_kp1, converge, itr+1)\n",
    "f = lambda x: (np.exp(x) - 2)\n",
    "f_p = lambda x: np.exp(x)\n",
    "f1 = lambda x: (x**4 - 3)\n",
    "f1_p = lambda x: 4*x**3\n",
    "print(\"For f(x) = e(x) - 2 :\")\n",
    "(x_bar1, cnv, itr) = newtons(f, f_p, x_k=1)\n",
    "if cnv:\n",
    "    print(\"The function converged\")\n",
    "else:\n",
    "    print(\"The function did not converge\")\n",
    "print(f\"No. of iteration needed = {itr}\")\n",
    "print(f\"x_bar = {x_bar1}, f(x_bar) = {f(x_bar1)}\")\n",
    "print(\"For f(x) = x^4 - 3 :\")\n",
    "(x_bar2, cnv, itr) = newtons(f1, f1_p, x_k=1)\n",
    "if cnv:\n",
    "    print(\"The function converged\")\n",
    "else:\n",
    "    print(\"The function did not converge\")\n",
    "print(f\"No. of iteration needed = {itr}\")\n",
    "print(f\"x_bar = {x_bar2}, f(x_bar) = {f1(x_bar2)}\")\n",
    "\n",
    "# scipy optimizer\n",
    "print(\"\\nResults from scipy optimizer\\n\")\n",
    "print(\"For f(x) = e(x) - 2 :\")\n",
    "root1 = opt.newton(func=f, x0=1, fprime=f_p, tol=1e-05, maxiter=15)\n",
    "print(f\"x_bar = {root1}, f(x_bar) = {f(root1)}\")\n",
    "print(\"For f(x) = x^4 - 3 :\")\n",
    "root2 = opt.newton(func=f1, x0=1, fprime=f1_p, tol=1e-05, maxiter=15)\n",
    "print(f\"x_bar = {root2}, f(x_bar) = {f1(root2)}\")"
   ]
  },
  {
   "cell_type": "markdown",
   "metadata": {},
   "source": [
    "## Problem 3:"
   ]
  },
  {
   "cell_type": "code",
   "execution_count": 3,
   "metadata": {},
   "outputs": [
    {
     "name": "stdout",
     "output_type": "stream",
     "text": [
      "Alpha = 1\n",
      "The function did not converge\n",
      "No. of iteration needed = 15\n",
      "x_bar = (-327.6800000000004+1.1948543292205501e-12j), f(x_bar) = (3.4470955040510227+5.970544551558603j)\n",
      "\n",
      "Alpha = 0.4\n",
      "The function converged\n",
      "No. of iteration needed = 6\n",
      "x_bar = (6.400000000000142e-07-4.0079512627066265e-21j), f(x_bar) = (0.008617738760127601-1.7989310909025253e-17j)\n"
     ]
    }
   ],
   "source": [
    "def new_tons(f, f_p, x_k, alpha=1.0, tol=1e-5, m_itr=15):\n",
    "    for itr in range(m_itr):\n",
    "        x_kp1 = x_k - alpha*(f(x_k)/f_p(x_k))\n",
    "        converge = False\n",
    "        if abs(x_kp1 - x_k) < tol:\n",
    "            converge = True\n",
    "            break\n",
    "        x_k = x_kp1\n",
    "    return (x_kp1, converge, itr+1)\n",
    "g = lambda x: x**(1/3)\n",
    "g_p = lambda x: (1/3)*x**(-2/3)\n",
    "#g = lambda x: np.power(x,(1/3))\n",
    "#g_p = lambda x: (1/3)* np.power(x,(-2/3))\n",
    "print(\"Alpha = 1\")\n",
    "(x1, cnv, itr) = new_tons(g, g_p, x_k=0.01)\n",
    "if cnv:\n",
    "    print(\"The function converged\")\n",
    "else:\n",
    "    print(\"The function did not converge\")\n",
    "print(f\"No. of iteration needed = {itr}\")\n",
    "print(f\"x_bar = {x1}, f(x_bar) = {g(x1)}\")\n",
    "print(\"\\nAlpha = 0.4\")\n",
    "(x2, cnv, itr) = new_tons(g, g_p, x_k=0.01, alpha=0.4)\n",
    "if cnv:\n",
    "    print(\"The function converged\")\n",
    "else:\n",
    "    print(\"The function did not converge\")\n",
    "print(f\"No. of iteration needed = {itr}\")\n",
    "print(f\"x_bar = {x2}, f(x_bar) = {g(x2)}\")"
   ]
  },
  {
   "cell_type": "markdown",
   "metadata": {},
   "source": [
    "## Problem 4:"
   ]
  },
  {
   "cell_type": "code",
   "execution_count": 4,
   "metadata": {},
   "outputs": [
    {
     "name": "stderr",
     "output_type": "stream",
     "text": [
      "C:\\ProgramData\\Anaconda3\\lib\\site-packages\\ipykernel_launcher.py:10: RuntimeWarning: invalid value encountered in double_scalars\n",
      "  # Remove the CWD from sys.path while we load stuff.\n",
      "C:\\ProgramData\\Anaconda3\\lib\\site-packages\\ipykernel_launcher.py:11: RuntimeWarning: invalid value encountered in double_scalars\n",
      "  # This is added back by InteractiveShellApp.init_path()\n"
     ]
    },
    {
     "data": {
      "image/png": "[encoded data removed]",
      "text/plain": [
       "<Figure size 432x288 with 1 Axes>"
      ]
     },
     "metadata": {
      "needs_background": "light"
     },
     "output_type": "display_data"
    }
   ],
   "source": [
    "n = 100 # number of values of alpha\n",
    "rng_alpha = np.linspace(1, 0, n, endpoint=False)\n",
    "rng_itr = np.zeros(n)\n",
    "# with warnings.catch_warnings():\n",
    "#    warnings.simplefilter('ignore')\n",
    "for i, a in enumerate(rng_alpha):\n",
    "    (x_1, cnv, rng_itr[i]) = new_tons(g, g_p, x_k=0.01, alpha=a)\n",
    "plt.plot(rng_alpha, rng_itr)\n",
    "plt.xlabel(\"Aplha\")\n",
    "plt.ylabel(\"No. of iterations\")\n",
    "plt.xticks(np.arange(0, 1, step=0.1))\n",
    "plt.ylim(0,14)\n",
    "plt.show()"
   ]
  },
  {
   "cell_type": "markdown",
   "metadata": {},
   "source": [
    "## Problem 7:"
   ]
  },
  {
   "cell_type": "code",
   "execution_count": null,
   "metadata": {},
   "outputs": [],
   "source": []
  }
 ],
 "metadata": {
  "kernelspec": {
   "display_name": "Python 3",
   "language": "python",
   "name": "python3"
  },
  "language_info": {
   "codemirror_mode": {
    "name": "ipython",
    "version": 3
   },
   "file_extension": ".py",
   "mimetype": "text/x-python",
   "name": "python",
   "nbconvert_exporter": "python",
   "pygments_lexer": "ipython3",
   "version": "3.6.5"
  }
 },
 "nbformat": 4,
 "nbformat_minor": 2
}
