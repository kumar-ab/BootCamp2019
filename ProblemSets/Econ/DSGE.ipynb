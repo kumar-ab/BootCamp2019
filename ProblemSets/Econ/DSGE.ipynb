{
 "cells": [
  {
   "cell_type": "markdown",
   "metadata": {},
   "source": [
    "# Dynamic Stochastic General Equilibrium"
   ]
  },
  {
   "cell_type": "markdown",
   "metadata": {},
   "source": [
    "### Exercise 1\n",
    "### Brock and Mirman's Model\n",
    "\n",
    "Household function:\n",
    "$$\n",
    "V(K_{t},z_{t}) = \\max_{K_{t+1}} \\ln(e^{zt}K^{\\alpha}_{t} - K_{t+1}) + \\beta E_t\\{V(K_{t+1},z_{t+1})\\} \\quad\n",
    "$$\n",
    "\n",
    "The associated Euler equation:\n",
    "$$\n",
    "\\frac{1}{e^{zt}K_t^{\\alpha} - K_{t+1}} = \\beta E_t\\bigg\\{\\frac{\\alpha e^{z_{t+1}}K_{t+1}^{\\alpha - 1}}{e^{z_{t+1}}K_{t+1}^{\\alpha} - K_{t+2}}\\bigg\\}\n",
    "$$\n",
    "\n",
    "If we write the policy function be written as:\n",
    "$$\n",
    "K_{t+1} = Ae^{z_t}K_t^\\alpha \\quad\n",
    "$$\n",
    "\n",
    "Substituting this in the Euler equation:\n",
    "$$\n",
    "\\frac{1}{(1-A)e^{zt}K_t^{\\alpha}} = \\beta E_t \\bigg\\{ \\frac{\\alpha}{(1-A)e^{zt}K_t^{\\alpha}} \\bigg\\}\n",
    "$$\n",
    "\n",
    "Since everything is at time \"t\", we can remove the Expectation which gives us:\n",
    "$$\n",
    "A = \\beta \\alpha\n",
    "$$\n",
    "\n",
    "Substituting the value of A in the policy function, we get:\n",
    "$$\n",
    "K_{t+1} = \\alpha \\beta e^{z_t}K_t^\\alpha \\quad\n",
    "$$"
   ]
  },
  {
   "cell_type": "markdown",
   "metadata": {},
   "source": [
    "### Exercise 2\n",
    "The characterizing equations are,\n",
    "<br> $c_t = (1-\\tau)(w_t l_t + (r_t - \\delta)k_t) + k_t + T_t - k_{t+1}$\n",
    "<br>\n",
    "<br> $\\frac{1}{c_t}= \\beta E_t\\{\\frac{1}{c_{t+1}}[(r_{t+1}-\\delta)(1-\\tau)+1]\\}$\n",
    "<br>\n",
    "<br> $\\frac{a}{1-l_t}= \\frac{1}{c_t}w_t(1-\\tau)$\n",
    "<br>\n",
    "<br> $r_t = \\alpha e^{z_t}(\\frac{L_t}{K_t})^{1-\\alpha}$\n",
    "<br>\n",
    "<br> $w_t = (1-\\alpha)e^{z_t}(\\frac{K_t}{L_t})^\\alpha$\n",
    "<br>\n",
    "<br> $\\tau [w_t l_t + (r_t - \\delta)k_t] = T_t$\n",
    "<br>\n",
    "<br> $z_t = (1-\\rho_z)\\bar{z} + \\rho_z z_{t-1} + \\epsilon^z_t$"
   ]
  },
  {
   "cell_type": "markdown",
   "metadata": {},
   "source": [
    "### Exercise 3\n",
    "The characterizing equations are,\n",
    "<br> $c_t = (1-\\tau)(w_t l_t + (r_t - \\delta)k_t) + k_t + T_t - k_{t+1}$\n",
    "<br>\n",
    "<br> $\\frac{1}{c_t^{\\gamma}}= \\beta E_t\\{\\frac{1}{c_{t+1}^{\\gamma}}[(r_{t+1}-\\delta)(1-\\tau)+1]\\}$\n",
    "<br>\n",
    "<br> $\\frac{a}{(1-l_t)}= \\frac{1}{c_t^{\\gamma}}w_t(1-\\tau)$\n",
    "<br>\n",
    "<br> $r_t = \\alpha e^{z_t}(\\frac{L_t}{K_t})^{1-\\alpha}$\n",
    "<br>\n",
    "<br> $w_t = (1-\\alpha)e^{z_t}(\\frac{K_t}{L_t})^\\alpha$\n",
    "<br>\n",
    "<br> $\\tau [w_t l_t + (r_t - \\delta)k_t] = T_t$\n",
    "<br>\n",
    "<br> $z_t = (1-\\rho_z)\\bar{z} + \\rho_z z_{t-1} + \\epsilon^z_t$"
   ]
  },
  {
   "cell_type": "markdown",
   "metadata": {},
   "source": [
    "### Exercise 4\n",
    "The characterizing equations are,\n",
    "<br> $c_t = (1-\\tau)(w_t l_t + (r_t - \\delta)k_t) + k_t + T_t - k_{t+1}$\n",
    "<br>\n",
    "<br> $\\frac{1}{c_t^{\\gamma}}= \\beta E_t\\{\\frac{1}{c_{t+1}^{\\gamma}}[(r_{t+1}-\\delta)(1-\\tau)+1]\\}$\n",
    "<br>\n",
    "<br> $\\frac{a}{(1-l_t)^{\\xi}}= \\frac{1}{c_t^{\\gamma}}w_t(1-\\tau)$\n",
    "<br>\n",
    "<br> $r_t = \\alpha e^{z_t} K_t^{\\eta -1}[\\alpha K_t ^\\eta + (1-\\alpha)L_t^\\eta]^{\\frac{1-\\eta}{\\eta}}$\n",
    "<br>\n",
    "<br> $w_t = (1-\\alpha)e^{z_t}L_t^{\\eta-1}[\\alpha K_t ^ \\eta + (1-\\alpha)L_t]^\\eta$\n",
    "<br>\n",
    "<br> $\\tau [w_t l_t + (r_t - \\delta)k_t] = T_t$\n",
    "<br>\n",
    "<br> $z_t = (1-\\rho_z)\\bar{z} + \\rho_z z_{t-1} + \\epsilon^z_t$"
   ]
  },
  {
   "cell_type": "markdown",
   "metadata": {},
   "source": [
    "### Exercise 5\n",
    "The characterizing equations are,\n",
    "<br> $c_t = (1-\\tau)(w_t l_t + (r_t - \\delta)k_t) + k_t + T_t - k_{t+1}$\n",
    "<br>\n",
    "<br> $\\frac{1}{c_t^{\\gamma}}= \\beta E_t\\{\\frac{1}{c_{t+1}^{\\gamma}}[(r_{t+1}-\\delta)(1-\\tau)+1]\\}$\n",
    "<br>\n",
    "<br> $ r_t = \\alpha \\big( \\frac{e^{z_t}L_t}{K_t}\\big)^{1-\\alpha}$\n",
    "<br>\n",
    "<br> $w_t = (1-\\alpha) \\big( \\frac{K_t}{e^{z_t}L_t})^{\\alpha}$\n",
    "<br>\n",
    "<br> $\\tau (w_t l_t + (r_t - \\delta)k_t) = T_t$\n",
    "<br>\n",
    "<br> $z_t = (1-\\rho_z)\\bar{z} + \\rho_z z_{t-1} + \\epsilon^z_t$\n",
    "\n",
    "For the steady state, $c_t = c_{t+1} = \\bar{c}$; $r_t = r_{t+1} = \\bar{r}$; and so on and $z_t = 0$. Putting these in the equations above, we get the value of $\\bar{k}$ as:\n",
    "$$\n",
    "\\bar{k} = \\big[\\frac{(1-\\beta)+\\delta\\beta(1-\\tau)}{\\alpha \\beta (1-\\tau)}\\big]^{1-\\alpha}\n",
    "$$"
   ]
  },
  {
   "cell_type": "code",
   "execution_count": 1,
   "metadata": {},
   "outputs": [
    {
     "name": "stdout",
     "output_type": "stream",
     "text": [
      "Steady state value of the variables:\n",
      "k:  [1.59186362e+31] c:  [3.35049801e+49] r:  [2.10476448e+18] w:  [1.81515449e+12] T:  [1.67524901e+48] Y:  [3.02525748e+12]\n"
     ]
    }
   ],
   "source": [
    "'''\n",
    "Numerical solution for the steady state\n",
    "'''\n",
    "import numpy as np\n",
    "import scipy.optimize as opt\n",
    "import matplotlib.pyplot as plt\n",
    "\n",
    "# Set the parameters\n",
    "gamma  = 2.5\n",
    "beta = 0.98\n",
    "alpha = 0.40\n",
    "delta = 0.10\n",
    "tau = 0.05\n",
    "z_bar = 0\n",
    "\n",
    "# Functions to generate the variables\n",
    "def c_t(k, w, r, T , delta, tau):\n",
    "    c = (1-tau)*(w + (r-delta)*k) + T\n",
    "    return c\n",
    "\n",
    "def r_t(k, z_bar, alpha):\n",
    "    r = alpha*(np.exp(z_bar)/k)**(alpha-1)\n",
    "    return r\n",
    "\n",
    "def w_t(k, z_bar, alpha):\n",
    "    w = (1-alpha)*(k/np.exp(z_bar))**alpha\n",
    "    return w\n",
    "\n",
    "def T_t(k, w, r, delta, tau):\n",
    "    T = tau * (w + (r - delta)*k)\n",
    "    return T\n",
    "\n",
    "def Y_t(K, z_bar, alpha):\n",
    "    Y = (K**alpha) * (np.exp(z_bar))**(1-alpha)\n",
    "    return Y\n",
    "\n",
    "def euler_fn(k, *args):\n",
    "    (gamma, beta, alpha, delta, tau, z_bar) = args\n",
    "    r = r_t(k, z_bar, alpha)\n",
    "    w = w_t(k, z_bar, alpha)\n",
    "    T = T_t(k, w, r, delta, tau)\n",
    "    c = c_t(k, w, r, T , delta, tau)\n",
    "    errors = c**(-gamma) - beta*((c**(-gamma))*((r- delta)*(1-tau)+1))\n",
    "    return errors\n",
    "\n",
    "# Initial value of K\n",
    "k_init = 0.5\n",
    "# run the root optimizer\n",
    "e_args = (gamma, beta, alpha, delta, tau, z_bar)\n",
    "results = opt.root(euler_fn, k_init, args= (e_args), tol = 1e-14)\n",
    "k_s = results.x\n",
    "error = results.fun\n",
    "\n",
    "Y = Y_t(k_s, z_bar, alpha)\n",
    "r = r_t(k_s, z_bar, alpha)\n",
    "w = w_t(k_s, z_bar, alpha)\n",
    "T = T_t(k_s, w, r, delta, tau)\n",
    "c = c_t(k_s, w, r, T , delta, tau)\n",
    "print(\"Steady state value of the variables:\")\n",
    "print(\"k: \", k_s, \"c: \", c,\"r: \", r, \"w: \", w, \"T: \", T, \"Y: \", Y)"
   ]
  },
  {
   "cell_type": "markdown",
   "metadata": {},
   "source": [
    "### Exercise 6\n",
    "The characterizing equations are,\n",
    "<br> $c_t = (1-\\tau)(w_t l_t + (r_t - \\delta)k_t) + k_t + T_t - k_{t+1}$\n",
    "<br>\n",
    "<br> $\\frac{1}{c_t^{\\gamma}}= \\beta E_t\\{\\frac{1}{c_{t+1}^{\\gamma}}[(r_{t+1}-\\delta)(1-\\tau)+1]\\}$\n",
    "<br>\n",
    "<br> $\\frac{a}{(1-l_t)^{\\xi}}= \\frac{1}{c_t^{\\gamma}}w_t(1-\\tau)$\n",
    "<br>\n",
    "<br> $ r_t = \\alpha \\big( \\frac{e^{z_t}L_t}{K_t}\\big)^{1-\\alpha}$\n",
    "<br>\n",
    "<br> $w_t = (1-\\alpha) \\big( \\frac{K_t}{e^{z_t}L_t}\\big)^{\\alpha}$\n",
    "<br>\n",
    "<br> $\\tau (w_t l_t + (r_t - \\delta)k_t) = T_t$\n",
    "<br>\n",
    "<br> $z_t = (1-\\rho_z)\\bar{z} + \\rho_z z_{t-1} + \\epsilon^z_t$"
   ]
  },
  {
   "cell_type": "code",
   "execution_count": 2,
   "metadata": {},
   "outputs": [
    {
     "name": "stdout",
     "output_type": "stream",
     "text": [
      "Steady state value of the variables:\n",
      "k:  0.5 l:  1.0 c:  0.5366657610304088 r:  0.2639015821545789 w:  0.4547149699531194 T:  0.026833288051520444 i:  0.05 Y:  0.757858283255199\n"
     ]
    },
    {
     "name": "stderr",
     "output_type": "stream",
     "text": [
      "C:\\ProgramData\\Anaconda3\\lib\\site-packages\\ipykernel_launcher.py:45: RuntimeWarning: divide by zero encountered in double_scalars\n",
      "C:\\ProgramData\\Anaconda3\\lib\\site-packages\\ipykernel_launcher.py:45: RuntimeWarning: invalid value encountered in double_scalars\n"
     ]
    }
   ],
   "source": [
    "# Set the parameters\n",
    "gamma  = 2.5\n",
    "xi = 1.5\n",
    "beta = 0.98\n",
    "alpha = 0.40\n",
    "a = 0.5\n",
    "delta = 0.10\n",
    "tau = 0.05\n",
    "z_bar = 0\n",
    "\n",
    "# Functions to generate the variables\n",
    "def c_t(k, l, w, r, T , delta, tau):\n",
    "    c = (1-tau)*(w*l + (r-delta)*k) + T\n",
    "    return c\n",
    "\n",
    "def r_t(k, l, z_bar, alpha):\n",
    "    r = alpha * ((np.exp(z_bar)*l)/k)**(alpha-1)\n",
    "    return r\n",
    "\n",
    "def w_t(k, l, z_bar, alpha):\n",
    "    w = (1-alpha) * (k/(np.exp(z_bar)*l))**alpha\n",
    "    return w\n",
    "\n",
    "def T_t(k, l, w, r, delta, tau):\n",
    "    T = tau*(w*l + (r-delta)*k)\n",
    "    return T\n",
    "\n",
    "def Y_t(k, l, z_bar, alpha):\n",
    "    Y = (k**alpha) * (np.exp(z_bar)*l)**(1-alpha)\n",
    "    return Y\n",
    "\n",
    "def I_t(k, delta):\n",
    "    i = delta * k\n",
    "    return i\n",
    "\n",
    "def euler_fn(k_l, *args):\n",
    "    (gamma, xi, beta, alpha, a, delta, tau, z_bar) = args\n",
    "    k = k_l[0]\n",
    "    l = k_l[1]\n",
    "    r = r_t(k, l, z_bar, alpha)\n",
    "    w = w_t(k, l, z_bar, alpha)\n",
    "    T = T_t(k, l, w, r, delta, tau)\n",
    "    c = c_t(k, l, w, r, T , delta, tau)\n",
    "    err1 = c**(-gamma) - beta*((c**(-gamma))*((r- delta)*(1-tau)+1))\n",
    "    err2 = c**(-gamma)*w*(1-tau)- a*(1-l)**(-xi)\n",
    "    errors = np.array([err1, err2])\n",
    "    return errors\n",
    "\n",
    "# Initial value of K & L\n",
    "k_l_init = np.array([0.5, 1])\n",
    "# Run root optimizer\n",
    "e_args = (gamma, xi, beta, alpha, a, delta, tau, z_bar)\n",
    "results = opt.root(euler_fn, k_l_init, args= (e_args), tol = 1e-14)\n",
    "k_l_s = results.x\n",
    "errors = results.fun\n",
    "k_s = k_l_s[0]\n",
    "l_s = k_l_s[1]\n",
    "\n",
    "Y = Y_t(k_s, l_s, z_bar, alpha)\n",
    "r = r_t(k_s, l_s, z_bar, alpha)\n",
    "w = w_t(k_s, l_s, z_bar, alpha)\n",
    "T = T_t(k_s, l_s, w, r, delta, tau)\n",
    "i = I_t(k_s, delta)\n",
    "c = c_t(k_s, l_s, w, r, T , delta, tau)\n",
    "print(\"Steady state value of the variables:\")\n",
    "print(\"k: \", k_s, \"l: \", l_s, \"c: \", c,\"r: \", r, \"w: \", w, \"T: \", T, \"i: \", i, \"Y: \", Y)"
   ]
  },
  {
   "cell_type": "markdown",
   "metadata": {},
   "source": [
    "### Exercise 7"
   ]
  },
  {
   "cell_type": "code",
   "execution_count": 3,
   "metadata": {},
   "outputs": [
    {
     "name": "stdout",
     "output_type": "stream",
     "text": [
      "Steady state values of the derivatives of:\n",
      "k:  0.0 l:  0.0 c:  -1.4126799711400295 r:  0.6843683006479973 w:  -1.2548641214643608 T:  0.4658904944762621 i:  0.5000000000000143 Y:  -0.07066781869680128\n"
     ]
    },
    {
     "name": "stderr",
     "output_type": "stream",
     "text": [
      "C:\\ProgramData\\Anaconda3\\lib\\site-packages\\ipykernel_launcher.py:45: RuntimeWarning: divide by zero encountered in double_scalars\n",
      "C:\\ProgramData\\Anaconda3\\lib\\site-packages\\ipykernel_launcher.py:45: RuntimeWarning: invalid value encountered in double_scalars\n"
     ]
    }
   ],
   "source": [
    "# Set value for \"h\" and Use the other parameters from problem 6\n",
    "h = 0.0001\n",
    "\n",
    "# assign X1 = X + h for each parameters\n",
    "alpha1 = alpha + h\n",
    "beta1 = beta + h\n",
    "gamma1  = gamma + h\n",
    "delta1 = delta + h\n",
    "xi1 = xi + h\n",
    "tau1 = tau + h\n",
    "a1 = a + h\n",
    "z1_bar = z_bar + h\n",
    "\n",
    "# Initial value of K & L\n",
    "k_l_init1 = np.array([0.5, 1])\n",
    "\n",
    "# Run root optimizer using X+h\n",
    "e_args = (gamma1, xi1, beta1, alpha1, a1, delta1, tau1, z1_bar)\n",
    "results = opt.root(euler_fn, k_l_init, args= (e_args), tol = 1e-14)\n",
    "k_l_s1 = results.x\n",
    "errors = results.fun\n",
    "k1_s = k_l_s1[0]\n",
    "l1_s = k_l_s1[1]\n",
    "Y1 = Y_t(k1_s, l1_s, z1_bar, alpha1)\n",
    "r1 = r_t(k1_s, l1_s, z1_bar, alpha1)\n",
    "w1 = w_t(k1_s, l1_s, z1_bar, alpha1)\n",
    "T1 = T_t(k1_s, l1_s, w1, r1, delta1, tau1)\n",
    "i1 = I_t(k1_s, delta1)\n",
    "c1 = c_t(k1_s, l1_s, w1, r1, T1, delta1, tau1)\n",
    "\n",
    "# Calculate derivative by the formula (f(X+h) - f(X))/h\n",
    "d_k = (k1_s - k_s)/h\n",
    "d_l = (l1_s - l_s)/h\n",
    "d_Y = (Y1 - Y)/h\n",
    "d_w = (w1 - w)/h\n",
    "d_r = (r1 - r)/h\n",
    "d_T = (T1 - T)/h\n",
    "d_i = (i1 - i)/h\n",
    "d_c = (c1 - c)/h\n",
    "\n",
    "print(\"Steady state values of the derivatives of:\")\n",
    "print(\"k: \", d_k, \"l: \", d_l, \"c: \", d_c,\"r: \", d_r, \"w: \", d_w, \"T: \", d_T, \"i: \", d_i, \"Y: \", d_Y)"
   ]
  },
  {
   "cell_type": "code",
   "execution_count": null,
   "metadata": {},
   "outputs": [],
   "source": []
  }
 ],
 "metadata": {
  "kernelspec": {
   "display_name": "Python 3",
   "language": "python",
   "name": "python3"
  },
  "language_info": {
   "codemirror_mode": {
    "name": "ipython",
    "version": 3
   },
   "file_extension": ".py",
   "mimetype": "text/x-python",
   "name": "python",
   "nbconvert_exporter": "python",
   "pygments_lexer": "ipython3",
   "version": "3.6.5"
  }
 },
 "nbformat": 4,
 "nbformat_minor": 2
}
