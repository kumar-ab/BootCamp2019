{
 "cells": [
  {
   "cell_type": "markdown",
   "metadata": {},
   "source": [
    "# Dynamic Programming Problem Set"
   ]
  },
  {
   "cell_type": "code",
   "execution_count": 1,
   "metadata": {},
   "outputs": [],
   "source": [
    "import numpy as np\n",
    "from matplotlib import pyplot as plt\n",
    "from scipy.optimize import fsolve"
   ]
  },
  {
   "cell_type": "markdown",
   "metadata": {},
   "source": [
    "## Problem 1:\n",
    "### Asset market equilibrium\n",
    "\n",
    "#### Optimization equation:\n",
    "$$\n",
    "\\max_{c_s^h}U^h(v(c_o^h))+\\frac{1}{S}\\sum_s v(c_s^h) \\quad given \\; c_o^h = e_o^h - q_1\\theta_1^h-q_2\\theta_2^h\n",
    "\\qquad \\qquad \\qquad \\qquad \\qquad \\qquad \\quad c_s^h = e_s^h - A^1_s\\theta_1^h-A^2_s\\theta_2^h\n",
    "$$\n",
    "\n",
    "#### First Order Conditions: \n",
    "$$\n",
    "q_1v'(c_o^h)=  \\frac{1}{S}\\sum_s v'(c_s^h) A^1_s \\\\\n",
    "q_2v'(c_o^h)=  \\frac{1}{S}\\sum_s v'(c_s^h) A^2_s \\\\\n",
    "$$\n",
    "\n",
    "#### Market Clearing conditions:\n",
    "$$\n",
    "\\theta_1^1+\\theta_1^2 = 0 \\\\\n",
    "\\theta_2^1+\\theta_2^2 = 0 \n",
    "$$"
   ]
  },
  {
   "cell_type": "code",
   "execution_count": 2,
   "metadata": {},
   "outputs": [
    {
     "name": "stdout",
     "output_type": "stream",
     "text": [
      "gamma value = 2\n",
      "(q1, q2, theta11, theta21, theta12, theta22) =\n",
      "(-1.028728221497213, -1.0346719786607224, -122.60594112788344, 122.95802909407965, -12.752809643322706, 12.743525670583711)\n",
      "gamma value = 4\n",
      "(q1, q2, theta11, theta21, theta12, theta22) =\n",
      "(0.8728233929655814, 1.3605031767333975, 0.7404521799643086, 0.9922413160875077, 0.7432511349693468, 0.9894407371703116)\n",
      "gamma value = 8\n",
      "(q1, q2, theta11, theta21, theta12, theta22) =\n",
      "(-2158.9050528546777, -138979.65062325605, 142192.41165951046, -142192.20700522006, 175356.59419119728, -175356.35584761755)\n",
      "gamma value = 166\n",
      "(q1, q2, theta11, theta21, theta12, theta22) =\n",
      "(1.0, 1.0, 1.0, 1.0, 1.0, 1.0)\n"
     ]
    },
    {
     "name": "stderr",
     "output_type": "stream",
     "text": [
      "C:\\ProgramData\\Anaconda3\\lib\\site-packages\\scipy\\optimize\\minpack.py:163: RuntimeWarning: The iteration is not making good progress, as measured by the \n",
      "  improvement from the last ten iterations.\n",
      "  warnings.warn(msg, RuntimeWarning)\n"
     ]
    }
   ],
   "source": [
    "gamma = 2\n",
    "# Function for v prime\n",
    "def fn_v_p(c):\n",
    "    v_p = np.power(c, -gamma)\n",
    "    return v_p\n",
    "# Function for c0\n",
    "def fn_c0(e0, q1, q2, theta1, theta2):\n",
    "    c0 = e0 - q1*theta1 - q2*theta2\n",
    "    return c0\n",
    "# Function for c_s\n",
    "def fn_c_s(e_s, A1, A2, theta1, theta2):\n",
    "    c_s = e_s + A1*theta1 + A2*theta2\n",
    "    return c_s\n",
    "# Feeding the parameters before calling the function\n",
    "H = 2\n",
    "S = 4\n",
    "A1 = [1,1,1,1]\n",
    "A2 = [1,1,1.5,1.5]\n",
    "e1 = [1,1,2,1,2]\n",
    "e2 = [1,3,1,3,1]\n",
    "\n",
    "# Function to optimize\n",
    "def fn_max(variables):\n",
    "    (q1, q2, theta11, theta21, theta12, theta22) = variables\n",
    "# def fn_max(q1, q2, theta1[0], theta2[0], theta1[1], theta2[1]):\n",
    "    # computing c0\n",
    "    c0 = np.zeros(H)\n",
    "    c0[0] = fn_c0(e1[0], q1, q2, theta11, theta21)\n",
    "    c0[1] = fn_c0(e2[0], q1, q2, theta12, theta22)\n",
    "    # computing c_s\n",
    "    c_s = np.zeros((H, S))\n",
    "    for j in range(S):\n",
    "        c_s[0,j]=fn_c_s(e1[j+1], A1[j], A2[j], theta11, theta21)\n",
    "        c_s[1,j]=fn_c_s(e1[j+1], A1[j], A2[j], theta12, theta22)\n",
    "    # Final value\n",
    "    fv11 = 0\n",
    "    fv21 = 0\n",
    "    fv12 = 0\n",
    "    fv22 = 0\n",
    "    for j in range(S):\n",
    "        fv11 += fn_v_p(c_s[0,j]) * A1[j]\n",
    "        fv21 += fn_v_p(c_s[0,j]) * A2[j]\n",
    "        fv12 += fn_v_p(c_s[1,j]) * A1[j]\n",
    "        fv22 += fn_v_p(c_s[1,j]) * A2[j]\n",
    "    fv11 = q1*fn_v_p(c0[0]) - (1/S)*fv11\n",
    "    fv21 += q2*fn_v_p(c0[0]) - (1/S)*fv21\n",
    "    fv12 += q1*fn_v_p(c0[1]) - (1/S)*fv12\n",
    "    fv22 += q2*fn_v_p(c0[1]) - (1/S)*fv22\n",
    "    # Market Clearing condition\n",
    "    fm1 = theta11 + theta21\n",
    "    fm2 = theta12 + theta22\n",
    "    return (fv11, fv21, fv12, fv22, fm1, fm2)\n",
    "\n",
    "arr_gamma = [2, 4, 8, 166]\n",
    "for idx, gamma in enumerate(arr_gamma):\n",
    "    print(f\"gamma value = {gamma}\")\n",
    "    (q1, q2, theta11, theta21, theta12, theta22) = fsolve(fn_max, (1, 1, 1, 1, 1, 1))\n",
    "    print(f\"(q1, q2, theta11, theta21, theta12, theta22) =\\n{q1, q2, theta11, theta21, theta12, theta22}\")"
   ]
  },
  {
   "cell_type": "markdown",
   "metadata": {},
   "source": [
    "## Problem 2:\n",
    "### Tic-Tac-Toe"
   ]
  },
  {
   "cell_type": "code",
   "execution_count": null,
   "metadata": {},
   "outputs": [],
   "source": []
  },
  {
   "cell_type": "markdown",
   "metadata": {},
   "source": [
    "## Problem 3:\n",
    "### Ramsey I\n",
    "\n",
    "\n",
    "$$\n",
    "\\max_{c_t} E\\beta^t U(c_t) \\qquad \\text{subject to: }c_t + k' = f(k_t,s)\n",
    "$$\n",
    "\n",
    "The Bellman Equation:\n",
    "$$\n",
    "V(k,s) = \\max u(c) + \\beta \\sum_{s'}p(k',s')V(k',s') \\qquad \\text{subject to: }c_t + k' = f(k_t,s)\n",
    "$$\n",
    "\n",
    "where $u(c)=log(c)$ and $f(k,s)= \\begin{cases}0.9 k^{0.3}+0.3k \\quad for\\;s =1 \\\\ 1.1 k^{0.3}+0.9k \\quad for\\;s =2\\end{cases}$\n",
    "\n",
    "The upper and lower bound of $k$ in ($\\bar{k}$, $\\underline{k}$) is derived from\n",
    "The steady state condition in can be found using from:\n",
    "$$\n",
    "k^* = f'^{-1}(\\frac{1}{\\beta})\n",
    "$$"
   ]
  },
  {
   "cell_type": "code",
   "execution_count": 3,
   "metadata": {},
   "outputs": [
    {
     "data": {
      "image/png": "[encoded data removed]",
      "text/plain": [
       "<Figure size 432x288 with 2 Axes>"
      ]
     },
     "metadata": {
      "needs_background": "light"
     },
     "output_type": "display_data"
    }
   ],
   "source": [
    "beta = 0.9 # Beta value used in the process\n",
    "N = 50 # number of grid-points for the capital grid\n",
    "S = 2 # Two-state problem\n",
    "pi1 = 0.5\n",
    "pi2 = 0.5\n",
    "tol = 1e-5 # set the tolerance level\n",
    "itr_max = 10000 # Maximum iterations\n",
    "\n",
    "# Define the production function\n",
    "def fn(k, s):\n",
    "    if s == 1: \n",
    "        a = 0.9\n",
    "        b = 0.3\n",
    "    elif s == 2:\n",
    "        a = 1.1\n",
    "        b = 0.9\n",
    "    else:\n",
    "        print(s)\n",
    "        raise ValueError('s can only have value 1 or 2')\n",
    "    f_k = a*k**0.3 + b*k\n",
    "    return f_k\n",
    "# Derivative of f\n",
    "def f_prime(k, s):\n",
    "    if s == 1: \n",
    "        a = 0.9\n",
    "        b = 0.3\n",
    "    elif s == 2:\n",
    "            a = 1.1\n",
    "            b = 0.9\n",
    "    else:\n",
    "        print(s)\n",
    "        raise ValueError('s can only have value 1 or 2')\n",
    "    fp_k = 0.3*a*k**(-0.7) + b\n",
    "    return fp_k\n",
    "# Function to find k*\n",
    "def ss_k(s): \n",
    "    if s == 1: \n",
    "        a = 0.9\n",
    "        b = 0.3\n",
    "    elif s == 2:\n",
    "        a = 1.1\n",
    "        b = 0.9\n",
    "    else:\n",
    "        raise ValueError('s can only take values of 1 or 2')\n",
    "    k_star = ((1/beta - b)/(0.3*a))**(-1/0.7)\n",
    "    return k_star\n",
    "\n",
    "k_low = np.min((ss_k(1), ss_k(2))) # lower bound for the capital grid\n",
    "k_high = np.max((ss_k(1), ss_k(2))) # upper bound for capital grid\n",
    "k_grid = np.linspace(k_low, k_high, N) #grid for capital\n",
    "\n",
    "# Initialize the value function for two states\n",
    "V_init = np.zeros((S, N))\n",
    "V_old = V_init.copy()\n",
    "V_new = np.zeros_like(V_init)\n",
    "c = np.zeros_like(V_init)\n",
    "u = np.zeros_like(V_init)\n",
    "ind = [0,0]\n",
    "p_k = np.zeros_like(V_init)\n",
    "for itr in range(itr_max):\n",
    "    for i,k in enumerate(k_grid):    #loop through today's capital\n",
    "        c[0,:] = fn(k, 1) - k_grid # consumption implied by policy k_next in state 1\n",
    "        c[1,:] = fn(k, 2) - k_grid  # consumption implied by policy k_next in state 2\n",
    "        u[c > 0] = np.log(c[c > 0] )\n",
    "        u[c <= 0] = -1e6 # set value to a large negetive no. for negative consumption\n",
    "        action_value = u + beta * (pi1*V_old[0,:] + pi2* V_old[1,:]) \n",
    "        V_new[:,i] = np.amax(action_value, axis=1)\n",
    "        ind = np.argmax(action_value, axis=1)\n",
    "        p_k[:,i] = k_grid[ind]\n",
    "        V_old = V_new.copy()\n",
    "    if np.linalg.norm(V_new - V_old) < tol:\n",
    "        break\n",
    "\n",
    "# Plot the functions\n",
    "plt.subplot(2, 1, 1) # Value function\n",
    "plt.plot(k_grid, V_new[0,:], label=\"s = 1\")\n",
    "plt.plot(k_grid, V_new[1,:], label=\"s = 2\")\n",
    "plt.xlabel(\"k\")\n",
    "plt.legend()\n",
    "plt.title(\"Value Function\")\n",
    "plt.tight_layout()\n",
    "plt.subplot(2, 1, 2) # Policy function\n",
    "plt.plot(k_grid, p_k[0,:], label=\"s = 1\")\n",
    "plt.plot(k_grid, p_k[1,:], label=\"s = 2\")\n",
    "plt.xlabel(\"k\")\n",
    "plt.legend()\n",
    "plt.title(\"Policy Function\")\n",
    "plt.tight_layout()\n",
    "plt.show()"
   ]
  },
  {
   "cell_type": "markdown",
   "metadata": {},
   "source": [
    "## Problem 4:"
   ]
  },
  {
   "cell_type": "code",
   "execution_count": null,
   "metadata": {},
   "outputs": [],
   "source": []
  }
 ],
 "metadata": {
  "kernelspec": {
   "display_name": "Python 3",
   "language": "python",
   "name": "python3"
  },
  "language_info": {
   "codemirror_mode": {
    "name": "ipython",
    "version": 3
   },
   "file_extension": ".py",
   "mimetype": "text/x-python",
   "name": "python",
   "nbconvert_exporter": "python",
   "pygments_lexer": "ipython3",
   "version": "3.6.5"
  }
 },
 "nbformat": 4,
 "nbformat_minor": 2
}
