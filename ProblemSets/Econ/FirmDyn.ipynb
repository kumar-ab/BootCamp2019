{
 "cells": [
  {
   "cell_type": "markdown",
   "metadata": {},
   "source": [
    "# Firm Entry and Exit Problem"
   ]
  },
  {
   "cell_type": "code",
   "execution_count": 1,
   "metadata": {},
   "outputs": [],
   "source": [
    "import numpy as np\n",
    "import time\n",
    "import scipy.optimize as opt\n",
    "from scipy.stats import norm\n",
    "import matplotlib.pyplot as plt\n",
    "from mpl_toolkits import mplot3d"
   ]
  },
  {
   "cell_type": "markdown",
   "metadata": {},
   "source": [
    "### 1. Define the recursive competitive equilibrium"
   ]
  },
  {
   "cell_type": "markdown",
   "metadata": {},
   "source": [
    "Household maximise utility:\n",
    "<br>$\\underset{C_{t}, N_{t}, K_{t+1}}{\\text{max}} \\quad E\\sum_{t = 0}^{\\infty} \\beta^{t} (log(C_{t} + a N_{t})$\n",
    "<br>$\\text{subject to, } C_{t} + (K_{t+1} - (1 - \\delta) K_{t}) = w_{t} N_{t} + r_{t} K_{t} , \\; \\forall t$\n",
    "\n",
    "Euler equation:\n",
    "<br>$C_{t} = \\beta (C_{t+1})^{-1} ((1 - \\delta) + r_{t+1})$\n",
    "\n",
    "Firms maximize profit:\n",
    "<br>$\\underset{w_{t}, r_{t}}{\\text{max}} \\quad e^{z_{t}} K_{t}^{\\theta} N_{t}^{\\nu} - w_{t} N_{t} - K_{t} r_{r}$\n",
    "\n",
    "The free entry condition:\n",
    "<br>$c_{e} \\leq \\int v(\\varepsilon, 0) \\nu(d \\varepsilon)$\n",
    "\n",
    "Market clearing conditions: \n",
    "<br>$N(z, g)=\\int n(\\varepsilon, k ; z, g) g(\\varepsilon, k) d \\varepsilon d k$\n",
    "<br>$C(z, g)=\\int y(\\varepsilon, k ; z, g)  - i(\\varepsilon, k ; z, g) d \\varepsilon d k$\n",
    "\n",
    "* The distribution of active firms $g^*(\\epsilon,k)$ is stationary"
   ]
  },
  {
   "cell_type": "code",
   "execution_count": 2,
   "metadata": {},
   "outputs": [
    {
     "name": "stdout",
     "output_type": "stream",
     "text": [
      "[-0.13764944032233709, -0.10706067580626218, -0.07647191129018727, -0.04588314677411236, -0.015294382258037448, 0.015294382258037448, 0.04588314677411237, 0.0764719112901873, 0.10706067580626219, 0.13764944032233709]\n",
      "[[5.30478170e-01 4.15375002e-01 5.32885772e-02 8.56706028e-04\n",
      "  1.54439460e-06 2.92857183e-10 5.66213743e-15 0.00000000e+00\n",
      "  0.00000000e+00 0.00000000e+00]\n",
      " [9.67966302e-02 4.93930466e-01 3.69971746e-01 3.87971726e-02\n",
      "  5.03259844e-04 7.25892202e-07 1.09655174e-10 1.66533454e-15\n",
      "  0.00000000e+00 0.00000000e+00]\n",
      " [3.71959075e-03 1.21954964e-01 5.23228103e-01 3.23146274e-01\n",
      "  2.76615366e-02 2.89198006e-04 3.33562232e-07 4.01295663e-11\n",
      "  4.44089210e-16 0.00000000e+00]\n",
      " [2.52812798e-05 5.78316444e-03 1.54270165e-01 5.43701344e-01\n",
      "  2.76746317e-01 1.93110204e-02 1.62557651e-04 1.49849563e-07\n",
      "  1.43532963e-11 1.11022302e-16]\n",
      " [2.82551739e-08 4.80546862e-05 8.83083400e-03 1.91241547e-01\n",
      "  5.54230974e-01 2.32360418e-01 1.31987073e-02 8.93711456e-05\n",
      "  6.58100220e-08 5.01743092e-12]\n",
      " [5.01748193e-12 6.58100220e-08 8.93711456e-05 1.31987073e-02\n",
      "  2.32360418e-01 5.54230974e-01 1.91241547e-01 8.83083400e-03\n",
      "  4.80546862e-05 2.82551739e-08]\n",
      " [1.39013711e-16 1.43532786e-11 1.49849563e-07 1.62557651e-04\n",
      "  1.93110204e-02 2.76746317e-01 5.43701344e-01 1.54270165e-01\n",
      "  5.78316444e-03 2.52812798e-05]\n",
      " [5.94563576e-22 4.89150847e-16 4.01295059e-11 3.33562232e-07\n",
      "  2.89198006e-04 2.76615366e-02 3.23146274e-01 5.23228103e-01\n",
      "  1.21954964e-01 3.71959075e-03]\n",
      " [3.89946474e-28 2.57578327e-21 1.68195357e-15 1.09655162e-10\n",
      "  7.25892202e-07 5.03259844e-04 3.87971726e-02 3.69971746e-01\n",
      "  4.93930466e-01 9.67966302e-02]\n",
      " [3.90429771e-35 2.08116592e-27 1.09035811e-20 5.65165946e-15\n",
      "  2.92857227e-10 1.54439460e-06 8.56706028e-04 5.32885772e-02\n",
      "  4.15375002e-01 5.30478170e-01]]\n"
     ]
    }
   ],
   "source": [
    "# Set parameters\n",
    "theta = 0.21\n",
    "nu = 0.64\n",
    "delta = 0.1\n",
    "beta = 0.96\n",
    "phi = 0.5\n",
    "rho = 0.9\n",
    "sigma = 0.02\n",
    "n_epsilon = 10\n",
    "Nbar = 0.6\n",
    "\n",
    "# Steady state equation\n",
    "rbar = (1/beta) - (1 - delta)\n",
    "Kbar = (rbar/(Nbar**(nu)*theta))**(1/(theta - 1))\n",
    "wbar = nu*Kbar**(theta)*Nbar**(nu - 1)\n",
    "cbar = wbar*Nbar + rbar*Kbar - Kbar + (1 - delta)*Kbar\n",
    "\n",
    "def Tauchen(n_epsilon, rho, sigma, m = 3):\n",
    "    zmax = m*np.sqrt(sigma**(2)/(1 - rho**(2)))\n",
    "    zmin = - m*np.sqrt(sigma**(2)/(1 - rho**(2)))\n",
    "    z=[0]*n_epsilon\n",
    "    ztilde = [0]*(n_epsilon-1)\n",
    "    for i in range(n_epsilon-1):\n",
    "        if i == 0:\n",
    "            z[i] = zmin\n",
    "        else:\n",
    "            z[i] = zmin + ((zmax - zmin)/(n_epsilon-1))*(i)\n",
    "    z[n_epsilon-1] = (zmax)\n",
    "    for i in range(n_epsilon-1):\n",
    "        ztilde[i] = (z[i+1] + z[i])/2\n",
    "    pi = np.zeros([n_epsilon, n_epsilon])\n",
    "    for i in range(n_epsilon):\n",
    "        for j in range(n_epsilon):\n",
    "            if j == 0:\n",
    "                pi[i][j] = norm.cdf((ztilde[j] - rho*z[i])/sigma)\n",
    "            elif j in range(1, n_epsilon-1):\n",
    "                pi[i][j] = norm.cdf((ztilde[j] - rho*z[i])/sigma) - norm.cdf((ztilde[j-1] - rho*z[i])/sigma)\n",
    "            elif j == (n_epsilon -1):\n",
    "                pi[i][j] = 1 - norm.cdf((ztilde[j-1] - rho*z[i])/sigma)\n",
    "    return z, pi\n",
    "\n",
    "testz, testpi = Tauchen(n_epsilon, rho, sigma)\n",
    "print(testz)\n",
    "print(testpi)"
   ]
  },
  {
   "cell_type": "code",
   "execution_count": null,
   "metadata": {},
   "outputs": [],
   "source": []
  }
 ],
 "metadata": {
  "kernelspec": {
   "display_name": "Python 3",
   "language": "python",
   "name": "python3"
  },
  "language_info": {
   "codemirror_mode": {
    "name": "ipython",
    "version": 3
   },
   "file_extension": ".py",
   "mimetype": "text/x-python",
   "name": "python",
   "nbconvert_exporter": "python",
   "pygments_lexer": "ipython3",
   "version": "3.6.5"
  }
 },
 "nbformat": 4,
 "nbformat_minor": 2
}
