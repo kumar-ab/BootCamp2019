{
 "cells": [
  {
   "cell_type": "markdown",
   "metadata": {},
   "source": [
    "# Numrical Steady-State Solution for a version of Aiyagari (1994) economy"
   ]
  },
  {
   "cell_type": "code",
   "execution_count": 1,
   "metadata": {},
   "outputs": [],
   "source": [
    "import numpy as np\n",
    "import random\n",
    "from matplotlib import pyplot as plt\n",
    "import scipy.optimize as opt"
   ]
  },
  {
   "cell_type": "code",
   "execution_count": 2,
   "metadata": {},
   "outputs": [],
   "source": [
    "# Set the parameters\n",
    "beta = 0.96\n",
    "delta = 0.06\n",
    "alpha = 0.36\n",
    "u_bar = 0.1\n",
    "N = 200\n",
    "params = alpha, beta, delta\n",
    "threshold = 1e-10"
   ]
  },
  {
   "cell_type": "code",
   "execution_count": 6,
   "metadata": {},
   "outputs": [],
   "source": [
    "def get_r(k_bar, u, params):\n",
    "    alpha, beta, delta = params\n",
    "    r = alpha * (k_bar**(alpha-1)) * (1-u)**(1-alpha)\n",
    "    return r\n",
    "\n",
    "def get_w(k_bar, u, params):\n",
    "    alpha, beta, delta = params\n",
    "    w = (1-alpha) * (k_bar**alpha) * (1-u)**(-alpha)\n",
    "    return w\n",
    "\n",
    "def get_kbar(params):\n",
    "    alpha, beta, delta = params\n",
    "    k_bar = ((alpha*beta)/(1-beta*(1-delta)))**(1/(1-alpha))\n",
    "    return k_bar\n",
    "\n",
    "def vf_itr(k_grid, params, r, w, MC):\n",
    "    tol = 1e-04\n",
    "    max_iter = 1000\n",
    "    \n",
    "    alpha, beta, delta = params\n",
    "    \n",
    "    V = np.zeros((len(k_grid),2))\n",
    "    pol = np.zeros_like(V)\n",
    "    \n",
    "    crit = 1\n",
    "    itr = 0\n",
    "    \n",
    "    for itr in range(max_iter):\n",
    "        V_new = np.zeros_like(V)\n",
    "        epsilon = np.array([1,0])\n",
    "        \n",
    "        for ii,k in enumerate(k_grid):\n",
    "            for ee,epsil in enumerate(epsilon):\n",
    "                max_V = -1e04\n",
    "                idx = 0\n",
    "\n",
    "                for jj,kp in enumerate(k_grid): \n",
    "                    if (r*k + w*epsil + (1-delta)*k - kp) <= 0:\n",
    "                        find_V = -1e08\n",
    "                        if find_V > max_V:\n",
    "                            max_V = find_V\n",
    "                            idx = jj\n",
    "                    else:\n",
    "                        EV = np.dot(V[jj,:],MC[ee,:])\n",
    "                        find_V = np.log(r*k + w*epsil + (1-delta)*k - kp) + beta*EV\n",
    "\n",
    "                        if find_V > max_V or ii == 0:\n",
    "                            max_V = find_V\n",
    "                            idx = jj\n",
    "                V_new[ii,ee] = max_V\n",
    "                pol[ii,ee] = k_grid[idx]\n",
    "        crit = np.max(np.abs(V - V_new))\n",
    "        if crit<tol:\n",
    "            break\n",
    "        V = V_new.copy()   \n",
    "    return V, pol"
   ]
  },
  {
   "cell_type": "code",
   "execution_count": 7,
   "metadata": {},
   "outputs": [
    {
     "data": {
      "image/png": "[encoded data removed]",
      "text/plain": [
       "<Figure size 432x288 with 1 Axes>"
      ]
     },
     "metadata": {},
     "output_type": "display_data"
    }
   ],
   "source": [
    "PIE = np.array([[0.9, 0.1],[0.9, 0.1]])\n",
    "\n",
    "# Setup k-grid\n",
    "k_low = 0.001\n",
    "k_high = 40\n",
    "k_grid = np.linspace(k_low, k_high, N)\n",
    "k_bar = get_kbar(params)\n",
    "r_bar = get_r(k_bar, u_bar, params)\n",
    "w_bar = get_w(k_bar, u_bar, params)\n",
    "V, pol = vf_itr(k_grid, params, r_bar, w_bar, PIE)\n",
    "\n",
    "degree = np.zeros(N)\n",
    "for ii in range(N):\n",
    "    degree[ii] = k_grid[ii]\n",
    "\n",
    "plt.plot(k_grid, pol[:,0], k_grid, pol[:,1])\n",
    "plt.plot(k_grid, degree, 'g--')\n",
    "plt.title('Policy Functions')\n",
    "plt.xlabel('$k$')\n",
    "plt.ylabel('$g(k,\\epsilon)$')\n",
    "plt.legend(('$\\epsilon=1$', '$\\epsilon=0$'))\n",
    "plt.show()"
   ]
  },
  {
   "cell_type": "code",
   "execution_count": null,
   "metadata": {},
   "outputs": [],
   "source": []
  },
  {
   "cell_type": "code",
   "execution_count": null,
   "metadata": {},
   "outputs": [],
   "source": []
  }
 ],
 "metadata": {
  "kernelspec": {
   "display_name": "Python 3",
   "language": "python",
   "name": "python3"
  },
  "language_info": {
   "codemirror_mode": {
    "name": "ipython",
    "version": 3
   },
   "file_extension": ".py",
   "mimetype": "text/x-python",
   "name": "python",
   "nbconvert_exporter": "python",
   "pygments_lexer": "ipython3",
   "version": "3.6.5"
  }
 },
 "nbformat": 4,
 "nbformat_minor": 2
}
