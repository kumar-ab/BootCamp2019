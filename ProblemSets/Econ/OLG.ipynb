{
 "cells": [
  {
   "cell_type": "code",
   "execution_count": 1,
   "metadata": {},
   "outputs": [],
   "source": [
    "import numpy as np\n",
    "import time\n",
    "import scipy.optimize as opt\n",
    "import matplotlib.pyplot as plt"
   ]
  },
  {
   "cell_type": "markdown",
   "metadata": {},
   "source": [
    "### Exercise 2.1:"
   ]
  },
  {
   "cell_type": "code",
   "execution_count": 2,
   "metadata": {},
   "outputs": [
    {
     "name": "stdout",
     "output_type": "stream",
     "text": [
      "For bvec_guess = [1.0, 1.2]:- \n",
      "b_cnstr: [ True False]\n",
      "c_cnstr: [ True False False]\n",
      "k_cnstr: False\n",
      "\n",
      "For bvec_guess = [0.06, -0.001]:- \n",
      "b_cnstr: [False False]\n",
      "c_cnstr: [False False False]\n",
      "k_cnstr: False\n",
      "\n",
      "For bvec_guess = [0.1, 0.1]:- \n",
      "b_cnstr: [False False]\n",
      "c_cnstr: [False False False]\n",
      "k_cnstr: False\n"
     ]
    }
   ],
   "source": [
    "# Set Parameters\n",
    "beta = 0.442   # 20 year discount factor\n",
    "delta = 0.6415 # 20 year depreciation rate\n",
    "sigma = 3.0    # coeff of risk aversion\n",
    "A = 1.0        # productivity scale parmeter\n",
    "alpha = 0.35   # capital share of income\n",
    "\n",
    "def get_L(nvec):\n",
    "    L = nvec.sum()\n",
    "    return L\n",
    "\n",
    "def get_K(bvec):\n",
    "    K = bvec.sum()\n",
    "    return K\n",
    "\n",
    "def get_r(K, L, params):\n",
    "    alpha, A, delta = params\n",
    "    r = alpha * A * (L/K)**(1-alpha) - delta\n",
    "    return r\n",
    "\n",
    "def get_w(K, L, params):\n",
    "    alpha, A, delta = params\n",
    "    w = (1-alpha) * A * (K/L)**alpha\n",
    "    return w\n",
    "\n",
    "def get_c(nvec, bvec, w, r):\n",
    "    c = np.zeros(len(nvec))\n",
    "    c[0] = w*nvec[0] - bvec[0]\n",
    "    c[1] = w*nvec[1] + (1+r)*bvec[0] - bvec[1]\n",
    "    c[2] = w*nvec[2] + (1+r)*bvec[1]\n",
    "    return c\n",
    "\n",
    "def u_prime(c, sigma):\n",
    "    u_p = c**(-sigma)\n",
    "    return u_p\n",
    "\n",
    "def feasible(f_params, bvec_guess):\n",
    "    nvec, A, alpha, delta = f_params\n",
    "    params = (alpha, A, delta)\n",
    "    \n",
    "    K = get_K(bvec_guess)\n",
    "    L = get_L(nvec)\n",
    "    r = get_r(K, L, params)\n",
    "    w = get_w(K, L, params)\n",
    "    c = get_c(nvec, bvec_guess, w, r)\n",
    "    \n",
    "    k_cnstr = K <= 0\n",
    "    c_cnstr = c<=0\n",
    "    \n",
    "    # getting b_cnstr\n",
    "    b_cnstr = np.array([False, False])\n",
    "    if c_cnstr[0]:\n",
    "        b_cnstr[0] = True\n",
    "    if c_cnstr[1]:\n",
    "        b_cnstr[0] = True\n",
    "        b_cnstr[1] = True\n",
    "    if c_cnstr[2]:\n",
    "        b_cnstr[1] = True\n",
    "   \n",
    "    return (b_cnstr, c_cnstr, k_cnstr)\n",
    "\n",
    "nvec = np.array([1, 1, 0.2])\n",
    "f_params = (nvec, A, alpha, delta)\n",
    "\n",
    "# 2.1(a) \n",
    "bvec_guess = np.array([1.0, 1.2])\n",
    "b_cnstr, c_cnstr, k_cnstr = feasible(f_params, bvec_guess)\n",
    "print(\"For bvec_guess = [1.0, 1.2]:- \\nb_cnstr:\", b_cnstr)\n",
    "print(\"c_cnstr:\", c_cnstr)\n",
    "print(\"k_cnstr:\", k_cnstr,)\n",
    "\n",
    "# 2.1(b)\n",
    "bvec_guess = np.array([0.06, -0.001])\n",
    "b_cnstr, c_cnstr, k_cnstr = feasible(f_params, bvec_guess)\n",
    "print(\"\\nFor bvec_guess = [0.06, -0.001]:- \\nb_cnstr:\", b_cnstr)\n",
    "print(\"c_cnstr:\", c_cnstr)\n",
    "print(\"k_cnstr:\", k_cnstr)\n",
    "\n",
    "# 2.1(c)\n",
    "bvec_guess = np.array([0.1, 0.1])\n",
    "b_cnstr, c_cnstr, k_cnstr = feasible(f_params, bvec_guess)\n",
    "print(\"\\nFor bvec_guess = [0.1, 0.1]:- \\nb_cnstr:\", b_cnstr)\n",
    "print(\"c_cnstr:\", c_cnstr)\n",
    "print(\"k_cnstr:\", k_cnstr)"
   ]
  },
  {
   "cell_type": "markdown",
   "metadata": {},
   "source": [
    "### Exercise 2.2:"
   ]
  },
  {
   "cell_type": "code",
   "execution_count": 3,
   "metadata": {},
   "outputs": [
    {
     "data": {
      "image/png": "[encoded data removed]",
      "text/plain": [
       "<Figure size 432x288 with 1 Axes>"
      ]
     },
     "metadata": {
      "needs_background": "light"
     },
     "output_type": "display_data"
    },
    {
     "name": "stdout",
     "output_type": "stream",
     "text": [
      "{'b_ss': array([0.01931252, 0.05841087]), 'c_ss': array([0.18241193, 0.20961477, 0.24087341]), 'w_ss': 0.20172444618280236, 'r_ss': 2.4330683174596803, 'K_ss': 0.07772339324650562, 'Y_ss': 0.6827596640033311, 'C_ss': 0.6329001072356977, 'EulErr_ss': array([-0.00048257,  0.00095614]), 'RCerr_ss': 7.632783294297951e-17, 'ss_time': 0.0010187820935324964}\n"
     ]
    },
    {
     "data": {
      "image/png": "[encoded data removed]",
      "text/plain": [
       "<Figure size 432x288 with 1 Axes>"
      ]
     },
     "metadata": {
      "needs_background": "light"
     },
     "output_type": "display_data"
    },
    {
     "name": "stdout",
     "output_type": "stream",
     "text": [
      "{'b_ss': array([0.0281769 , 0.07686542]), 'c_ss': array([0.19597526, 0.2286159 , 0.26669303]), 'w_ss': 0.22415215565391486, 'r_ss': 1.8863773493522455, 'K_ss': 0.10504231629369658, 'Y_ss': 0.7586688345209426, 'C_ss': 0.6912841886185362, 'EulErr_ss': array([6.13542633e-05, 2.40931391e-05]), 'RCerr_ss': -1.3877787807814457e-17, 'ss_time': 0.00032219039488851076}\n"
     ]
    }
   ],
   "source": [
    "def euler(bvec_guess, *params):\n",
    "    beta, sigma, nvec, L, A, alpha, delta = params\n",
    "    params1 = (alpha, A, delta)\n",
    "    K = get_K(bvec_guess)\n",
    "    r = get_r(K, L, params1)\n",
    "    w = get_w(K, L, params1)\n",
    "    c = get_c(nvec, bvec_guess, w, r)\n",
    "    # euler errors\n",
    "    err1 = beta*(1+r)*u_prime(c[1], sigma) - u_prime(c[0], sigma)\n",
    "    err2 = beta*(1+r)*u_prime(c[2], sigma) - u_prime(c[1], sigma) \n",
    "    errors = [err1, err2]\n",
    "    return errors\n",
    "    \n",
    "def get_SS(params, bvec_guess, SS_graphs):\n",
    "\n",
    "    # timer\n",
    "    start_time = time.clock()\n",
    "    beta, sigma, nvec, L, A, alpha, delta, SS_tol = params\n",
    "    params1 = (alpha, A, delta)\n",
    "    args_eul = (beta, sigma, nvec, L, A, alpha, delta)\n",
    "    \n",
    "    # Run the root optimizer\n",
    "    result = opt.root(euler, bvec_guess, args = args_eul, tol = SS_tol)\n",
    "    b_ss = result.x\n",
    "    EulErr_ss = result.fun\n",
    "    \n",
    "    K_ss = get_K(b_ss)\n",
    "    r_ss = get_r(K_ss, L, params1)\n",
    "    w_ss = get_w(K_ss, L, params1)\n",
    "    c_ss = get_c(nvec, b_ss, w_ss, r_ss)\n",
    "    Y_ss = A * (K_ss**alpha) * (L**(1-alpha))\n",
    "    C_ss = c_ss.sum()\n",
    "    \n",
    "    RCerr_ss = Y_ss - C_ss - delta*K_ss\n",
    "    \n",
    "    # stop timer\n",
    "    ss_time = time.clock()-start_time\n",
    "    \n",
    "    if SS_graphs:\n",
    "        plt.bar([\"s=1\", \"s=2\", \"s=3\"], c_ss, label=\"Consumption\")\n",
    "        plt.bar([\"s=2\", \"s=3\"], b_ss, label='Savings')\n",
    "        plt.title(\"Distribution of steady state Consumption and Savings\")\n",
    "        plt.xlabel(\"Periods\")\n",
    "        plt.ylabel(\"Consumption/Savings\")\n",
    "        plt.legend()\n",
    "        plt.show()\n",
    "    \n",
    "    ss_output = {\n",
    "        'b_ss': b_ss, 'c_ss': c_ss, 'w_ss': w_ss, 'r_ss': r_ss,\n",
    "        'K_ss': K_ss, 'Y_ss': Y_ss, 'C_ss': C_ss,\n",
    "        'EulErr_ss': EulErr_ss, 'RCerr_ss': RCerr_ss,\n",
    "        'ss_time': ss_time}\n",
    "    return(ss_output)\n",
    "\n",
    "bvec_guess = np.array([0.1, 0.1])\n",
    "ss_tol = 1e-4\n",
    "L = nvec.sum()\n",
    "\n",
    "# 2.2(a) & (b)\n",
    "params = (beta, sigma, nvec, L, A, alpha, delta, ss_tol)\n",
    "ss_output = get_SS(params, bvec_guess, True)\n",
    "print(ss_output)\n",
    "\n",
    "# 2.2(c)\n",
    "params = (0.55, sigma, nvec, L, A, alpha, delta, ss_tol)\n",
    "ss_output = get_SS(params, bvec_guess, True)\n",
    "print(ss_output)"
   ]
  },
  {
   "cell_type": "markdown",
   "metadata": {},
   "source": [
    "Intuitionally, as $\\beta$ increases (i.e. people become more patient) people would save more for future. This will lead to more savings, and thereby more capital in the economy. This will bring the interest rate down. Because of increased capital, wages will increase and so will the consumption in the steady state. This intuition is on the same lines of the results where we can se that $\\{\\bar{c_s}\\}_{s=1}^3$, $\\{\\bar{b_s}\\}_{s=1}^2$, $w$ has increased, whereas $r$ has decreased."
   ]
  },
  {
   "cell_type": "markdown",
   "metadata": {},
   "source": [
    "### Exercise 2.3"
   ]
  },
  {
   "cell_type": "code",
   "execution_count": 4,
   "metadata": {},
   "outputs": [
    {
     "name": "stdout",
     "output_type": "stream",
     "text": [
      "The maximum of all Euler Error is:  0.00023199888565272886 \n",
      "\n"
     ]
    },
    {
     "data": {
      "image/png": "[encoded data removed]",
      "text/plain": [
       "<Figure size 432x288 with 1 Axes>"
      ]
     },
     "metadata": {
      "needs_background": "light"
     },
     "output_type": "display_data"
    },
    {
     "data": {
      "image/png": "[encoded data removed]",
      "text/plain": [
       "<Figure size 432x288 with 1 Axes>"
      ]
     },
     "metadata": {
      "needs_background": "light"
     },
     "output_type": "display_data"
    },
    {
     "data": {
      "image/png": "[encoded data removed]",
      "text/plain": [
       "<Figure size 432x288 with 1 Axes>"
      ]
     },
     "metadata": {
      "needs_background": "light"
     },
     "output_type": "display_data"
    },
    {
     "name": "stdout",
     "output_type": "stream",
     "text": [
      "(K_t - K_bar) < 0.00001: \n",
      " [False False False False False False False False False  True  True  True\n",
      "  True  True  True  True  True  True  True  True  True  True  True  True\n",
      "  True  True  True  True  True  True  True  True  True  True  True  True\n",
      "  True  True  True  True  True  True  True  True  True  True  True  True\n",
      "  True  True]\n"
     ]
    }
   ],
   "source": [
    "# Additional parameters\n",
    "T = 50\n",
    "max_iter = 1000 \n",
    "xi = 0.5\n",
    "bvec_init = np.array([0.1, 0.1])\n",
    "\n",
    "def euler_b32(b32, *args):\n",
    "    (r1, r2, w1, w2, nvec, b21, beta, sigma) = args\n",
    "    c21 = (1 + r1) * b21 + w1 * nvec[1] - b32\n",
    "    c32 = (1 + r2) * b32 + w2 * nvec[2]\n",
    "    err = (u_prime(c21, sigma) - beta * (1 + r2) *\n",
    "                   u_prime(c32, sigma))\n",
    "    return err\n",
    "\n",
    "def euler_TPI(guesses, *args):\n",
    "    b2, b3 = guesses\n",
    "    (r_tp1, r_tp2, w_t, w_tp1, w_tp2, nvec, beta, sigma) = args\n",
    "    c1 = w_t * nvec[0] - b2\n",
    "    c2 = (1 + r_tp1) * b2 + w_tp1 * nvec[1] - b3\n",
    "    c3 = (1 + r_tp2) * b3 + w_tp2 * nvec[2]\n",
    "    agg_c = c1+c2+c3\n",
    "    err1 = (u_prime(c1, sigma) - beta * (1 + r_tp1) *\n",
    "                    u_prime(c2, sigma))\n",
    "    err2 = (u_prime(c2, sigma) - beta * (1 + r_tp2) *\n",
    "                    u_prime(c3, sigma))\n",
    "    errors = [err1, err2]\n",
    "    return errors\n",
    "\n",
    "# For steady state\n",
    "L = get_L(nvec)\n",
    "args_eul = (beta, sigma, nvec, L, A, alpha, delta)\n",
    "params1 = (alpha, A, delta)\n",
    "results = opt.root(euler, bvec_init, args=args_eul, tol=ss_tol)\n",
    "b_ss = results.x\n",
    "zero_val = results.fun\n",
    "K_ss = get_K(b_ss)\n",
    "L_ss = get_L(nvec)\n",
    "r_ss = get_r(K_ss, L, params1)\n",
    "w_ss = get_w(K_ss, L, params1)\n",
    "\n",
    "\n",
    "bvec_init = np.array([0.8 * b_ss[0], 1.1 * b_ss[1]])\n",
    "K_init = get_K(bvec_init)\n",
    "Kpath = np.linspace(K_init, K_ss, num=T)\n",
    "\n",
    "euler_err = list()\n",
    "dist = 10\n",
    "epsilon = 1e-9\n",
    "# Iteration for upto max_iter\n",
    "for itr in range(max_iter):\n",
    "    L = get_L(nvec)\n",
    "    rpath = get_r(Kpath, L, params1)\n",
    "    rpath = np.append(rpath, r_ss)\n",
    "    wpath = get_w(Kpath, L, params1)\n",
    "    wpath = np.append(wpath, w_ss)\n",
    "    b32_guess = bvec_init[1]\n",
    "    b32_args = (rpath[0], rpath[1], wpath[0], wpath[1], nvec, bvec_init[0],\n",
    "                beta, sigma)\n",
    "    # Solve for b_3,2\n",
    "    results = opt.root(euler_b32, b32_guess, args=b32_args, tol=ss_tol)\n",
    "    b32 = results.x\n",
    "    error_b32=results.fun\n",
    "    euler_err.extend(error_b32.tolist())\n",
    "    bmat = np.zeros((T+1, 2))\n",
    "    bmat[0] = bvec_init\n",
    "    bmat[1, 1] = b32\n",
    "    \n",
    "    for t in range(1, T):\n",
    "        bguess = [bmat[t, 0], bmat[t-1, 1]]\n",
    "        b_args = (rpath[t], rpath[t+1], wpath[t-1], wpath[t],\n",
    "                  wpath[t], nvec, beta, sigma)\n",
    "        results = opt.root(euler_TPI, bguess, args=b_args, tol=ss_tol)\n",
    "        b2, b3 = results.x\n",
    "        errors = results.fun\n",
    "        euler_err.extend(errors.tolist())\n",
    "        bmat[t, 0] = b2\n",
    "        bmat[t+1, 1] = b3\n",
    "\n",
    "    Kprime = bmat.sum(axis=1)\n",
    "    dist = ((Kpath[:-1] - Kprime[:-2]) ** 2).sum()\n",
    "    Kpath = xi * Kprime[:-2] + (1 - xi) * Kpath[:-1]\n",
    "    Kpath = np.append(Kpath, K_ss)\n",
    "    if abs(dist) < epsilon:\n",
    "        break\n",
    "\n",
    "Lpath = np.ones(len(Kpath))*2.2   \n",
    "Ypath = A*((Kpath)**alpha)*(Lpath)**(1-alpha)\n",
    "\n",
    "# 2.3(a)\n",
    "print('The maximum of all Euler Error is: ', max(np.abs(euler_err)), \"\\n\")\n",
    "\n",
    "# 2.3(b)\n",
    "plt.plot(Kpath)       #K_path\n",
    "plt.title('K_Path')\n",
    "plt.show()\n",
    "plt.plot(rpath)       #r_path\n",
    "plt.title('r_path')\n",
    "plt.show()\n",
    "plt.plot(wpath)       #w_path\n",
    "plt.title('w_path')\n",
    "plt.show()\n",
    "\n",
    "# 2.3(c)\n",
    "K_check = abs(bmat.sum(axis=1)-K_ss)<1e-05\n",
    "print(\"(K_t - K_bar) < 0.00001: \\n\", K_check[0:T])"
   ]
  },
  {
   "cell_type": "markdown",
   "metadata": {},
   "source": [
    "It can be seen from above that the economy took 10 periods to get within 0.00001 of the steady-state aggregate capital stock $\\bar{K}$ and thereafter it never got farther than 0.00001 away from the steady-state!"
   ]
  },
  {
   "cell_type": "markdown",
   "metadata": {},
   "source": [
    "### Exercise 3.2"
   ]
  },
  {
   "cell_type": "code",
   "execution_count": 5,
   "metadata": {},
   "outputs": [
    {
     "data": {
      "image/png": "[encoded data removed]",
      "text/plain": [
       "<Figure size 432x288 with 1 Axes>"
      ]
     },
     "metadata": {
      "needs_background": "light"
     },
     "output_type": "display_data"
    },
    {
     "name": "stdout",
     "output_type": "stream",
     "text": [
      "{'b_ss': array([ 1.81389861e-01,  3.73139410e-01,  5.75839931e-01,  7.90116294e-01,\n",
      "        1.01662888e+00,  1.25607548e+00,  1.50919343e+00,  1.77676187e+00,\n",
      "        2.05960398e+00,  2.35858950e+00,  2.67463729e+00,  3.00871796e+00,\n",
      "        3.36185666e+00,  3.73513602e+00,  4.12969919e+00,  4.54675300e+00,\n",
      "        4.98757128e+00,  5.45349833e+00,  5.94595239e+00,  6.46642924e+00,\n",
      "        7.01650584e+00,  7.59784406e+00,  8.21219457e+00,  8.86140037e+00,\n",
      "        9.54740036e+00,  1.02722329e+01,  1.10380390e+01,  1.18470649e+01,\n",
      "        1.27016649e+01,  1.36043022e+01,  1.45575501e+01,  1.55640915e+01,\n",
      "        1.66267165e+01,  1.77483179e+01,  1.89318859e+01,  2.01804972e+01,\n",
      "        2.14973017e+01,  2.28855032e+01,  2.43483358e+01,  2.58890297e+01,\n",
      "        2.75107704e+01,  2.92166447e+01,  3.10095712e+01,  3.28922164e+01,\n",
      "        3.48668843e+01,  3.69353840e+01,  3.90988580e+01,  4.13575768e+01,\n",
      "        4.37106794e+01,  4.61558550e+01,  4.86889483e+01,  5.13034792e+01,\n",
      "        5.39900435e+01,  5.67355907e+01,  5.87888068e+01,  6.06919310e+01,\n",
      "        6.23790910e+01,  6.37704755e+01,  6.47681144e+01,  6.52516924e+01,\n",
      "        6.50742935e+01,  6.40578730e+01,  6.19883250e+01,  5.86101670e+01,\n",
      "        5.36208192e+01,  4.66644902e+01,  3.73253236e+01,  2.51184922e+01,\n",
      "        9.47606242e+00, -1.02792798e+01, -3.49843577e+01, -6.57252475e+01,\n",
      "       -1.03987161e+02, -1.51900524e+02, -2.12639693e+02, -2.91008196e+02,\n",
      "       -3.94685105e+02, -5.50918575e+02,  1.65813513e+02]), 'c_ss': array([ 5.50791562e-01,  5.82255237e-01,  6.15516281e-01,  6.50677437e-01,\n",
      "        6.87847271e-01,  7.27140654e-01,  7.68678895e-01,  8.12590246e-01,\n",
      "        8.59010271e-01,  9.08082237e-01,  9.59957566e-01,  1.01479635e+00,\n",
      "        1.07276786e+00,  1.13405098e+00,  1.19883482e+00,  1.26731927e+00,\n",
      "        1.33971559e+00,  1.41624703e+00,  1.49714961e+00,  1.58267277e+00,\n",
      "        1.67308024e+00,  1.76865071e+00,  1.86967855e+00,  1.97647507e+00,\n",
      "        2.08936937e+00,  2.20870898e+00,  2.33486128e+00,  2.46821459e+00,\n",
      "        2.60917907e+00,  2.75818825e+00,  2.91570026e+00,  3.08219873e+00,\n",
      "        3.25819512e+00,  3.44422988e+00,  3.64087274e+00,  3.84872674e+00,\n",
      "        4.06842796e+00,  4.30064880e+00,  4.54609768e+00,  4.80552408e+00,\n",
      "        5.07971768e+00,  5.36951150e+00,  5.67578558e+00,  5.99946498e+00,\n",
      "        6.34152694e+00,  6.70299774e+00,  7.08496070e+00,  7.48855185e+00,\n",
      "        7.91496452e+00,  8.36545039e+00,  8.84132089e+00,  9.34394292e+00,\n",
      "        9.87474619e+00,  1.04352090e+01,  1.10284041e+01,  1.16519095e+01,\n",
      "        1.23066801e+01,  1.29914670e+01,  1.37060264e+01,  1.44501146e+01,\n",
      "        1.52225910e+01,  1.60207094e+01,  1.68394790e+01,  1.76709100e+01,\n",
      "        1.85031922e+01,  1.93197710e+01,  2.00986762e+01,  2.08129938e+01,\n",
      "        2.14340426e+01,  2.19402538e+01,  2.23349671e+01,  2.26744878e+01,\n",
      "        2.31075327e+01,  2.39368692e+01,  2.57152118e+01,  2.93398127e+01,\n",
      "        3.65786614e+01,  6.52302648e+01, -8.43758307e+02,  2.04045413e+02]), 'w_ss': 0.7321814230864675, 'r_ss': 0.2305716747908902, 'K_ss': 75.87930226137186, 'Y_ss': 60.827379764106524, 'C_ss': 57.0334146510379, 'EulErr_ss': array([-3.14301064e-06, -3.22186025e-06, -4.54357267e-06, -5.55968873e-06,\n",
      "       -7.62738858e-06, -8.64897246e-06, -9.10651909e-06, -9.04562098e-06,\n",
      "       -8.44261135e-06, -7.43716565e-06, -6.35023598e-06, -5.32972549e-06,\n",
      "       -4.33641103e-06, -3.42101627e-06, -2.57140141e-06, -1.77180415e-06,\n",
      "       -1.01556803e-06, -3.39064505e-07,  2.46843237e-07,  7.14805197e-07,\n",
      "        1.10267762e-06,  1.46758351e-06,  1.74787227e-06,  1.93889361e-06,\n",
      "        2.10146321e-06,  2.21993757e-06,  2.28872539e-06,  2.33296652e-06,\n",
      "        2.34531263e-06,  2.33023899e-06,  2.30970120e-06,  2.26420669e-06,\n",
      "        2.19857042e-06,  2.14389356e-06,  2.07116491e-06,  1.99889403e-06,\n",
      "        1.91847144e-06,  1.84684304e-06,  1.76865121e-06,  1.69522830e-06,\n",
      "        1.62587539e-06,  1.55501559e-06,  1.49277294e-06,  1.43108609e-06,\n",
      "        1.37672258e-06,  1.32317618e-06,  1.27549811e-06,  1.23264818e-06,\n",
      "        1.19417338e-06,  1.15939940e-06,  1.13014044e-06,  1.10365589e-06,\n",
      "        1.08269257e-06,  6.96496205e-07,  1.24533237e-06,  1.67131456e-06,\n",
      "        2.26088083e-06,  2.75756894e-06,  3.14175017e-06,  3.47223591e-06,\n",
      "        3.81048057e-06,  4.20065311e-06,  4.67445571e-06,  5.25538925e-06,\n",
      "        5.96638916e-06,  6.83059426e-06,  7.86320089e-06,  9.05158120e-06,\n",
      "        1.03026095e-05,  1.13447322e-05,  1.15844690e-05,  9.96499317e-06,\n",
      "        5.08686212e-06, -3.44013893e-06, -1.20329143e-05, -1.54562379e-05,\n",
      "       -1.61759828e-05, -3.60486968e-06,  1.40723269e-07]), 'RCerr_ss': 2.9753977059954195e-14, 'ss_time': 0.5050383527056629}\n"
     ]
    }
   ],
   "source": [
    "# Set Parameters\n",
    "S = 80         # 80 periods\n",
    "beta = 0.96    # annual discount factor\n",
    "delta = 0.05   # annual depreciation rate\n",
    "sigma = 3.0    # coeff of risk aversion\n",
    "A = 1.0        # productivity scale parmeter\n",
    "alpha = 0.35   # capital share of income\n",
    "\n",
    "def get_L(nvec):\n",
    "    L = nvec.sum()\n",
    "    return L\n",
    "\n",
    "def get_K(bvec):\n",
    "    K = bvec.sum()\n",
    "    return K\n",
    "\n",
    "def get_r(K, L, params):\n",
    "    alpha, A, delta = params\n",
    "    r = alpha * A * (L/K)**(1-alpha) - delta\n",
    "    return r\n",
    "\n",
    "def get_w(K, L, params):\n",
    "    alpha, A, delta = params\n",
    "    w = (1-alpha) * A * (K/L)**alpha\n",
    "    return w\n",
    "\n",
    "def get_c(nvec, bvec, w, r):\n",
    "    c = np.zeros(len(nvec))\n",
    "    c[0] = w*nvec[0] - bvec[0]\n",
    "    for i in range(1, len(nvec)-1):\n",
    "        c[i] = w*nvec[i] + (1+r)*bvec[i-1] - bvec[i]\n",
    "    c[len(nvec)-1] = w*nvec[len(nvec)-1] + (1+r)*bvec[len(nvec)-2]\n",
    "    return c\n",
    "\n",
    "def u_prime(c, sigma):\n",
    "    u_p = c**(-sigma)\n",
    "    return u_p\n",
    "\n",
    "def euler(bvec_guess, *params):\n",
    "    beta, sigma, nvec, L, A, alpha, delta = params\n",
    "    params1 = (alpha, A, delta)\n",
    "    K = get_K(bvec_guess)\n",
    "    r = get_r(K, L, params1)\n",
    "    w = get_w(K, L, params1)\n",
    "    c = get_c(nvec, bvec_guess, w, r)\n",
    "    # euler errors\n",
    "    errors = np.zeros(len(nvec)-1)\n",
    "    for i in range(len(nvec)-1):\n",
    "        errors[i] = beta*(1+r)*u_prime(c[i+1], sigma) - u_prime(c[i], sigma)\n",
    "    return errors\n",
    "    \n",
    "def get_SS(params, bvec_guess, SS_graphs):\n",
    "\n",
    "    # timer\n",
    "    start_time = time.clock()\n",
    "    beta, sigma, nvec, L, A, alpha, delta, SS_tol = params\n",
    "    params1 = (alpha, A, delta)\n",
    "    args_eul = (beta, sigma, nvec, L, A, alpha, delta)\n",
    "    \n",
    "    # Run the root optimizer\n",
    "    result = opt.root(euler, bvec_guess, args = args_eul, tol = SS_tol)\n",
    "    b_ss = result.x\n",
    "    EulErr_ss = result.fun\n",
    "    \n",
    "    K_ss = get_K(b_ss)\n",
    "    r_ss = get_r(K_ss, L, params1)\n",
    "    w_ss = get_w(K_ss, L, params1)\n",
    "    c_ss = get_c(nvec, b_ss, w_ss, r_ss)\n",
    "    Y_ss = A * (K_ss**alpha) * (L**(1-alpha))\n",
    "    C_ss = c_ss.sum()\n",
    "    \n",
    "    RCerr_ss = Y_ss - C_ss - delta*K_ss\n",
    "    \n",
    "    # stop timer\n",
    "    ss_time = time.clock()-start_time\n",
    "    \n",
    "    if SS_graphs:\n",
    "        plt.bar(list(range(1, S+1)), c_ss, label=\"Consumption\")\n",
    "        plt.bar(list(range(2, S+1)), b_ss, label='Savings')\n",
    "        plt.title(\"Distribution of steady state Consumption and Savings\")\n",
    "        plt.xlabel(\"Periods\")\n",
    "        plt.ylabel(\"Consumption/Savings\")\n",
    "        plt.legend()\n",
    "        plt.show()\n",
    "    \n",
    "    ss_output = {\n",
    "        'b_ss': b_ss, 'c_ss': c_ss, 'w_ss': w_ss, 'r_ss': r_ss,\n",
    "        'K_ss': K_ss, 'Y_ss': Y_ss, 'C_ss': C_ss,\n",
    "        'EulErr_ss': EulErr_ss, 'RCerr_ss': RCerr_ss,\n",
    "        'ss_time': ss_time}\n",
    "    return(ss_output)\n",
    "\n",
    "nvec = np.full(S, 1)\n",
    "for i in range (54, S):\n",
    "    nvec[i] = 0.2\n",
    "bvec_guess = np.full(S-1, 0.1)\n",
    "ss_tol = 1e-4\n",
    "L = get_L(nvec)\n",
    "\n",
    "# 3.2(a) & (b)\n",
    "params = (beta, sigma, nvec, L, A, alpha, delta, ss_tol)\n",
    "ss_output = get_SS(params, bvec_guess, True)\n",
    "print(ss_output)"
   ]
  },
  {
   "cell_type": "code",
   "execution_count": 6,
   "metadata": {},
   "outputs": [
    {
     "data": {
      "image/png": "[encoded data removed]",
      "text/plain": [
       "<Figure size 432x288 with 1 Axes>"
      ]
     },
     "metadata": {
      "needs_background": "light"
     },
     "output_type": "display_data"
    },
    {
     "name": "stdout",
     "output_type": "stream",
     "text": [
      "{'b_ss': array([ 0.31173391,  0.64216296,  0.99124514,  1.35883698,  1.74796954,\n",
      "        2.15226018,  2.57481082,  3.01544435,  3.47409469,  3.95066661,\n",
      "        4.44506152,  4.95718922,  5.48695971,  6.03428478,  6.5990779 ,\n",
      "        7.18125419,  7.78073041,  8.39742494,  9.03125776,  9.68215043,\n",
      "       10.35002609, 11.03480942, 11.73642663, 12.45480547, 13.18987518,\n",
      "       13.94156651, 14.70981167, 15.49454439, 16.29569982, 17.11321463,\n",
      "       17.9470269 , 18.79707623, 19.66330359, 20.54565229, 21.44406088,\n",
      "       22.35843022, 23.28879592, 24.23505073, 25.19713938, 26.17473251,\n",
      "       25.40928593, 24.65058069, 23.89851311, 23.15297629, 22.41393841,\n",
      "       21.68135267, 20.9551183 , 20.23511491, 19.52122961, 18.81336369,\n",
      "       18.11142966, 17.41534677, 16.72503778, 16.04042704, 15.36143939,\n",
      "       14.68799968, 14.02003263, 13.35746282, 12.70021484, 12.04821343,\n",
      "       11.40138368, 10.7596512 , 10.12294225,  9.49118385,  8.8643038 ,\n",
      "        8.24223076,  7.62489425,  7.01222464,  6.40415315,  5.80061193,\n",
      "        5.20153399,  4.60685329,  4.01650447,  3.43042267,  2.84854387,\n",
      "        2.27080604,  1.69714581,  1.12749582,  0.56181872]), 'c_ss': array([1.44738165, 1.43027331, 1.41330215, 1.3965694 , 1.37689982,\n",
      "       1.36372251, 1.34752046, 1.33158847, 1.31581458, 1.30022765,\n",
      "       1.28483053, 1.26961432, 1.2545784 , 1.23972048, 1.22503845,\n",
      "       1.21053022, 1.19619371, 1.18202688, 1.16802772, 1.15419424,\n",
      "       1.14052446, 1.12701644, 1.11366827, 1.10047805, 1.08744391,\n",
      "       1.07456398, 1.06183644, 1.04925945, 1.03683121, 1.02454992,\n",
      "       1.0124138 , 1.00042106, 0.98857   , 0.97685797, 0.96528945,\n",
      "       0.95390183, 0.94255983, 0.93140651, 0.92038935, 0.90978213,\n",
      "       0.89868248, 0.88804482, 0.87754517, 0.8671862 , 0.85689229,\n",
      "       0.84667827, 0.83659785, 0.82667016, 0.81688707, 0.80723383,\n",
      "       0.79769873, 0.78827458, 0.77895744, 0.76974534, 0.76063741,\n",
      "       0.75163326, 0.74273262, 0.73393526, 0.72524079, 0.71664866,\n",
      "       0.70815815, 0.69976836, 0.69147825, 0.6832867 , 0.67519254,\n",
      "       0.66719455, 0.65929151, 0.65148222, 0.64376545, 0.63613996,\n",
      "       0.62860449, 0.6211578 , 0.61379885, 0.60652681, 0.5993405 ,\n",
      "       0.59223763, 0.5852192 , 0.57828888, 0.57141633, 0.56467852]), 'w_ss': 1.7591155606688722, 'r_ss': 0.005090248744817449, 'K_ss': 928.4704463382741, 'Y_ss': 146.1419081171063, 'C_ss': 75.09076795082836, 'EulErr_ss': array([-2.40143636e-05,  2.22982108e-05, -5.06912873e-06,  2.50803829e-03,\n",
      "       -2.63248966e-03,  4.37821005e-05, -2.60468892e-05,  2.22684669e-06,\n",
      "        2.20992073e-06, -3.20066382e-06, -1.74383557e-06, -1.89988416e-06,\n",
      "       -1.88755482e-06, -1.86174512e-06, -1.81631375e-06, -1.74680909e-06,\n",
      "       -1.65063478e-06, -1.52922114e-06, -1.38340179e-06, -1.21299610e-06,\n",
      "       -1.01708475e-06, -7.93066823e-07, -5.41341241e-07, -2.50386743e-07,\n",
      "        8.68528361e-08,  4.82096729e-07,  9.58566725e-07,  1.54435392e-06,\n",
      "        2.27267041e-06,  3.19978417e-06,  4.40267271e-06,  5.74917630e-06,\n",
      "        1.02490394e-05, -5.24085334e-06, -1.58888247e-04,  1.60639089e-04,\n",
      "       -4.04922022e-05, -5.88792165e-05, -1.24318548e-03,  1.43692224e-03,\n",
      "       -3.02565390e-05, -9.03573154e-05, -1.78323647e-04,  1.22373301e-04,\n",
      "        3.65114125e-04,  3.08477803e-04,  1.16956058e-04, -5.29578343e-05,\n",
      "       -1.50836112e-04, -1.85313978e-04, -1.79515261e-04, -1.51955358e-04,\n",
      "       -1.15629981e-04, -7.84418929e-05, -4.51942211e-05, -1.75377102e-05,\n",
      "        2.96411136e-06,  1.68239604e-05,  2.45877264e-05,  2.75097263e-05,\n",
      "        2.70521334e-05,  2.43985829e-05,  2.05761635e-05,  1.65734200e-05,\n",
      "        1.29223125e-05,  1.00511180e-05,  8.36693359e-06,  8.37162750e-06,\n",
      "        1.08657617e-05,  1.68904240e-05,  2.67853413e-05,  3.77355946e-05,\n",
      "        4.46017813e-05,  5.60658840e-05,  9.80521488e-05,  9.53211312e-05,\n",
      "       -2.91601996e-05,  6.29586945e-04, -8.58463804e-04]), 'RCerr_ss': 24.627617849364242, 'ss_time': 0.13647931577827066}\n"
     ]
    }
   ],
   "source": [
    "# 3.2(c)\n",
    "for i in range (40, S):\n",
    "    nvec[i] = 0.2\n",
    "params = (beta, sigma, nvec, L, A, alpha, delta, ss_tol)\n",
    "ss_output = get_SS(params, bvec_guess, True)\n",
    "print(ss_output)"
   ]
  }
 ],
 "metadata": {
  "kernelspec": {
   "display_name": "Python 3",
   "language": "python",
   "name": "python3"
  },
  "language_info": {
   "codemirror_mode": {
    "name": "ipython",
    "version": 3
   },
   "file_extension": ".py",
   "mimetype": "text/x-python",
   "name": "python",
   "nbconvert_exporter": "python",
   "pygments_lexer": "ipython3",
   "version": "3.6.5"
  }
 },
 "nbformat": 4,
 "nbformat_minor": 2
}
