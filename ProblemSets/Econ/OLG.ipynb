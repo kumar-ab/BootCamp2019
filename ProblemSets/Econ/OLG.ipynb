{
 "cells": [
  {
   "cell_type": "code",
   "execution_count": 1,
   "metadata": {},
   "outputs": [],
   "source": [
    "import numpy as np\n",
    "import time\n",
    "import scipy.optimize as opt\n",
    "import matplotlib.pyplot as plt"
   ]
  },
  {
   "cell_type": "markdown",
   "metadata": {},
   "source": [
    "### Exercise 2.1:"
   ]
  },
  {
   "cell_type": "code",
   "execution_count": 2,
   "metadata": {},
   "outputs": [
    {
     "name": "stdout",
     "output_type": "stream",
     "text": [
      "For bvec_guess = [1.0, 1.2]:- \n",
      "b_cnstr: [ True False]\n",
      "c_cnstr: [ True False False]\n",
      "k_cnstr: False\n",
      "\n",
      "For bvec_guess = [0.06, -0.001]:- \n",
      "b_cnstr: [False False]\n",
      "c_cnstr: [False False False]\n",
      "k_cnstr: False\n",
      "\n",
      "For bvec_guess = [0.1, 0.1]:- \n",
      "b_cnstr: [False False]\n",
      "c_cnstr: [False False False]\n",
      "k_cnstr: False\n"
     ]
    }
   ],
   "source": [
    "# Set Parameters\n",
    "beta = 0.442   # 20 year discount factor\n",
    "delta = 0.6415 # 20 year depreciation rate\n",
    "sigma = 3      # coeff of risk aversion\n",
    "A = 1          # productivity scale parmeter\n",
    "alpha = 0.35   # capital share of income\n",
    "\n",
    "def get_L(nvec):\n",
    "    L = nvec.sum()\n",
    "    return L\n",
    "\n",
    "def get_K(bvec):\n",
    "    K = bvec.sum()\n",
    "    return K\n",
    "\n",
    "def get_r(K, L, params):\n",
    "    alpha, A, delta = params\n",
    "    r = alpha * A * (L/K)**(1-alpha) - delta\n",
    "    return r\n",
    "\n",
    "def get_w(K, L, params):\n",
    "    alpha, A, delta = params\n",
    "    w = (1-alpha) * A * (K/L)**alpha\n",
    "    return w\n",
    "\n",
    "def get_c(nvec, bvec, w, r):\n",
    "    c = np.zeros(len(nvec))\n",
    "    c[0] = w*nvec[0] - bvec[0]\n",
    "    c[1] = w*nvec[1] + (1+r)*bvec[0] - bvec[1]\n",
    "    c[2] = w*nvec[2] + (1+r)*bvec[1]\n",
    "    return c\n",
    "\n",
    "def u_prime(c, sigma):\n",
    "    u_p = c**(-sigma)\n",
    "    return u_p\n",
    "\n",
    "def feasible(f_params, bvec_guess):\n",
    "    nvec, A, alpha, delta = f_params\n",
    "    params = (alpha, A, delta)\n",
    "    \n",
    "    K = get_K(bvec_guess)\n",
    "    L = get_L(nvec)\n",
    "    r = get_r(K, L, params)\n",
    "    w = get_w(K, L, params)\n",
    "    c = get_c(nvec, bvec_guess, w, r)\n",
    "    \n",
    "    k_cnstr = K <= 0\n",
    "    c_cnstr = c<=0\n",
    "    \n",
    "    # getting b_cnstr\n",
    "    b_cnstr = np.array([False, False])\n",
    "    if c_cnstr[0]:\n",
    "        b_cnstr[0] = True\n",
    "    if c_cnstr[1]:\n",
    "        b_cnstr[0] = True\n",
    "        b_cnstr[1] = True\n",
    "    if c_cnstr[2]:\n",
    "        b_cnstr[1] = True\n",
    "   \n",
    "    return (b_cnstr, c_cnstr, k_cnstr)\n",
    "\n",
    "nvec = np.array([1, 1, 0.2])\n",
    "f_params = (nvec, A, alpha, delta)\n",
    "\n",
    "# 2.1(a) \n",
    "bvec_guess = np.array([1.0, 1.2])\n",
    "b_cnstr, c_cnstr, k_cnstr = feasible(f_params, bvec_guess)\n",
    "print(\"For bvec_guess = [1.0, 1.2]:- \\nb_cnstr:\", b_cnstr)\n",
    "print(\"c_cnstr:\", c_cnstr)\n",
    "print(\"k_cnstr:\", k_cnstr,)\n",
    "\n",
    "# 2.1(b)\n",
    "bvec_guess = np.array([0.06, -0.001])\n",
    "b_cnstr, c_cnstr, k_cnstr = feasible(f_params, bvec_guess)\n",
    "print(\"\\nFor bvec_guess = [0.06, -0.001]:- \\nb_cnstr:\", b_cnstr)\n",
    "print(\"c_cnstr:\", c_cnstr)\n",
    "print(\"k_cnstr:\", k_cnstr)\n",
    "\n",
    "# 2.1(c)\n",
    "bvec_guess = np.array([0.1, 0.1])\n",
    "b_cnstr, c_cnstr, k_cnstr = feasible(f_params, bvec_guess)\n",
    "print(\"\\nFor bvec_guess = [0.1, 0.1]:- \\nb_cnstr:\", b_cnstr)\n",
    "print(\"c_cnstr:\", c_cnstr)\n",
    "print(\"k_cnstr:\", k_cnstr)"
   ]
  },
  {
   "cell_type": "markdown",
   "metadata": {},
   "source": [
    "### Exercise 2.2:"
   ]
  },
  {
   "cell_type": "code",
   "execution_count": 3,
   "metadata": {},
   "outputs": [
    {
     "data": {
      "image/png": "[encoded data removed]",
      "text/plain": [
       "<Figure size 432x288 with 1 Axes>"
      ]
     },
     "metadata": {
      "needs_background": "light"
     },
     "output_type": "display_data"
    },
    {
     "name": "stdout",
     "output_type": "stream",
     "text": [
      "{'b_ss': array([0.01931252, 0.05841087]), 'c_ss': array([0.18241193, 0.20961477, 0.24087341]), 'w_ss': 0.20172444618280236, 'r_ss': 2.4330683174596803, 'K_ss': 0.07772339324650562, 'Y_ss': 0.6827596640033311, 'C_ss': 0.6329001072356977, 'EulErr_ss': array([-0.00048257,  0.00095614]), 'RCerr_ss': 7.632783294297951e-17, 'ss_time': 0.004853383289206934}\n"
     ]
    },
    {
     "data": {
      "image/png": "[encoded data removed]",
      "text/plain": [
       "<Figure size 432x288 with 1 Axes>"
      ]
     },
     "metadata": {
      "needs_background": "light"
     },
     "output_type": "display_data"
    },
    {
     "name": "stdout",
     "output_type": "stream",
     "text": [
      "{'b_ss': array([0.0281769 , 0.07686542]), 'c_ss': array([0.19597526, 0.2286159 , 0.26669303]), 'w_ss': 0.22415215565391486, 'r_ss': 1.8863773493522455, 'K_ss': 0.10504231629369658, 'Y_ss': 0.7586688345209426, 'C_ss': 0.6912841886185362, 'EulErr_ss': array([6.13542633e-05, 2.40931391e-05]), 'RCerr_ss': -1.3877787807814457e-17, 'ss_time': 0.00036726135040615615}\n"
     ]
    }
   ],
   "source": [
    "def euler(bvec_guess, *params):\n",
    "    beta, sigma, nvec, L, A, alpha, delta, SS_tol = params\n",
    "    params1 = (alpha, A, delta)\n",
    "    K = get_K(bvec_guess)\n",
    "    r = get_r(K, L, params1)\n",
    "    w = get_w(K, L, params1)\n",
    "    c = get_c(nvec, bvec_guess, w, r)\n",
    "    u_p = u_prime(c, sigma)\n",
    "    \n",
    "    # euler errors\n",
    "    err1 = beta*(1+r)*u_prime(c[1], sigma) - u_prime(c[0], sigma)\n",
    "    err2 = beta*(1+r)*u_prime(c[2], sigma) - u_prime(c[1], sigma) \n",
    "    errors = [err1, err2]\n",
    "    return (errors)\n",
    "    \n",
    "def get_SS(params, bvec_guess, SS_graphs):\n",
    "    \n",
    "    # timer\n",
    "    start_time = time.clock()\n",
    "    beta, sigma, nvec, L, A, alpha, delta, SS_tol = params\n",
    "    params1 = (alpha, A, delta)\n",
    "    \n",
    "    # Run the root optimizer\n",
    "    result = opt.root(euler, bvec_guess, args = params, tol = SS_tol)\n",
    "    b_ss = result.x\n",
    "    EulErr_ss = result.fun\n",
    "    \n",
    "    K_ss = get_K(b_ss)\n",
    "    r_ss = get_r(K_ss, L, params1)\n",
    "    w_ss = get_w(K_ss, L, params1)\n",
    "    c_ss = get_c(nvec, b_ss, w_ss, r_ss)\n",
    "    Y_ss = A * (K_ss**alpha) * (L**(1-alpha))\n",
    "    C_ss = c_ss.sum()\n",
    "    \n",
    "    RCerr_ss = Y_ss - C_ss - delta*K_ss\n",
    "    \n",
    "    # stop timer\n",
    "    ss_time = time.clock()-start_time\n",
    "    \n",
    "    if SS_graphs:\n",
    "        plt.bar([\"Y\", \"M\", \"O\"], c_ss, label=\"Consumption\")\n",
    "        plt.bar([\"M\", \"O\"], b_ss, label='Savings')\n",
    "        plt.title(\"Distribution of steady state Consumption and Savings\")\n",
    "        plt.xlabel(\"Periods\")\n",
    "        plt.ylabel(\"Consumption/Savings\")\n",
    "        plt.legend()\n",
    "        plt.show()\n",
    "    \n",
    "    ss_output = {\n",
    "        'b_ss': b_ss, 'c_ss': c_ss, 'w_ss': w_ss, 'r_ss': r_ss,\n",
    "        'K_ss': K_ss, 'Y_ss': Y_ss, 'C_ss': C_ss,\n",
    "        'EulErr_ss': EulErr_ss, 'RCerr_ss': RCerr_ss,\n",
    "        'ss_time': ss_time}\n",
    "    return(ss_output)\n",
    "\n",
    "bvec_guess = np.array([0.1, 0.1])\n",
    "ss_tol = 1e-4\n",
    "L = nvec.sum()\n",
    "\n",
    "# 2.2(a) & (b)\n",
    "params = (beta, sigma, nvec, L, A, alpha, delta, ss_tol)\n",
    "ss_output = get_SS(params, bvec_guess, True)\n",
    "print(ss_output)\n",
    "\n",
    "# 2.2(c)\n",
    "params = (0.55, sigma, nvec, L, A, alpha, delta, ss_tol)\n",
    "ss_output = get_SS(params, bvec_guess, True)\n",
    "print(ss_output)"
   ]
  },
  {
   "cell_type": "markdown",
   "metadata": {},
   "source": [
    "Intuitionally, as $\\beta$ increases (i.e. people become more patient) people would save more for future. This will lead to more savings, and thereby more capital in the economy. This will bring the interest rate down. Because of increased capital, wages will increase and so will the consumption in the steady state. This intuition is on the same lines of the results where we can se that $\\{\\bar{c_s}\\}_{s=1}^3$, $\\{\\bar{b_s}\\}_{s=1}^2$, $w$ has increased, whereas $r$ has decreased."
   ]
  },
  {
   "cell_type": "markdown",
   "metadata": {},
   "source": [
    "### Exercise 3"
   ]
  },
  {
   "cell_type": "code",
   "execution_count": null,
   "metadata": {},
   "outputs": [],
   "source": []
  }
 ],
 "metadata": {
  "kernelspec": {
   "display_name": "Python 3",
   "language": "python",
   "name": "python3"
  },
  "language_info": {
   "codemirror_mode": {
    "name": "ipython",
    "version": 3
   },
   "file_extension": ".py",
   "mimetype": "text/x-python",
   "name": "python",
   "nbconvert_exporter": "python",
   "pygments_lexer": "ipython3",
   "version": "3.6.5"
  }
 },
 "nbformat": 4,
 "nbformat_minor": 2
}
